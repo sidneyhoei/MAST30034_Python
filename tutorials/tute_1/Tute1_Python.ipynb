{
 "cells": [
  {
   "cell_type": "markdown",
   "metadata": {
    "heading_collapsed": true
   },
   "source": [
    "# Applied Data Science (MAST30034) Tutorial 1"
   ]
  },
  {
   "cell_type": "markdown",
   "metadata": {},
   "source": [
    "# Working with Larger Datasets with a Scalable Solution!\n",
    "Consider the size of the datasets you have worked with at Uni. Probably a few hundred megabytes or a couple gigabytes. Whilst `pandas` and `Excel` do have their use cases, it is not feasible to use them when you work with larger datasets over several gigabytes. You have been working with moderately sized data. In this subject, you will be working with larger datasets (not quite big data).\n",
    "\n",
    "For example:\n",
    "1. 20k rows would be hard for Excel, but easy for `pandas`.\n",
    "2. A few million records would be doable for `pandas` depending on RAM (let's say 16GB or 32GB to be generous).\n",
    "3. Now, consider 100 million rows over several gigabytes. `pandas` **is not your solution**.\n",
    "\n",
    "Why?\n",
    "\n",
    "`pandas` works in-memory. That is, you are limited by RAM which can be hard to come across for the average person. Even with 32GB or 64GB memory, it is best to use Apache Spark, which is designed to work with large datasets.\n",
    "\n",
    "![image.png](https://spark.apache.org/images/spark-logo-trademark.png)\n"
   ]
  },
  {
   "cell_type": "markdown",
   "metadata": {
    "hidden": true
   },
   "source": [
    "- Installing `pyspark` and Pre-Req Notebook (15-30 minutes)\n",
    "- Basic intro to Apache Spark (30-60 minutes)\n",
    "- Project 1 Tips (yes, it's already out and we **strongly recommend you start today**) (remainder of time)\n",
    "_________________"
   ]
  },
  {
   "cell_type": "markdown",
   "metadata": {},
   "source": [
    "**Disclaimer:**\n",
    "- Windows 10 or 11 users are required to install `WSL` or `WSL2` for `pyspark`. This is something that you should take the time to learn how to use and install now for a future career in the tech industry. If you have yet to install it, please visit https://github.com/VoLKyyyOG/COMP20003\n",
    "- MacOS (Intel) or Linux is all good. If you are using an M1 or M2 chip, you will need to follow some specific instructions.\n",
    "\n",
    "\n",
    "If you really don't want to use spark, you can use `pandas` as usual. Just be aware of memory limitations and missed opportunity for upskilling yourself for a job! For those who don't want to use Spark, please run `pip3 install pandas fastparquet` and you can just read it in like this."
   ]
  },
  {
   "cell_type": "code",
   "execution_count": 1,
   "metadata": {
    "ExecuteTime": {
     "end_time": "2023-07-24T04:02:19.053015Z",
     "start_time": "2023-07-24T04:02:18.641312Z"
    }
   },
   "outputs": [
    {
     "data": {
      "text/html": [
       "<div>\n",
       "<style scoped>\n",
       "    .dataframe tbody tr th:only-of-type {\n",
       "        vertical-align: middle;\n",
       "    }\n",
       "\n",
       "    .dataframe tbody tr th {\n",
       "        vertical-align: top;\n",
       "    }\n",
       "\n",
       "    .dataframe thead th {\n",
       "        text-align: right;\n",
       "    }\n",
       "</style>\n",
       "<table border=\"1\" class=\"dataframe\">\n",
       "  <thead>\n",
       "    <tr style=\"text-align: right;\">\n",
       "      <th></th>\n",
       "      <th>VendorID</th>\n",
       "      <th>tpep_pickup_datetime</th>\n",
       "      <th>tpep_dropoff_datetime</th>\n",
       "      <th>passenger_count</th>\n",
       "      <th>trip_distance</th>\n",
       "      <th>RatecodeID</th>\n",
       "      <th>store_and_fwd_flag</th>\n",
       "      <th>PULocationID</th>\n",
       "      <th>DOLocationID</th>\n",
       "      <th>payment_type</th>\n",
       "      <th>fare_amount</th>\n",
       "      <th>extra</th>\n",
       "      <th>mta_tax</th>\n",
       "      <th>tip_amount</th>\n",
       "      <th>tolls_amount</th>\n",
       "      <th>improvement_surcharge</th>\n",
       "      <th>total_amount</th>\n",
       "      <th>congestion_surcharge</th>\n",
       "      <th>airport_fee</th>\n",
       "    </tr>\n",
       "  </thead>\n",
       "  <tbody>\n",
       "    <tr>\n",
       "      <th>3066761</th>\n",
       "      <td>2</td>\n",
       "      <td>2023-01-31 23:58:34</td>\n",
       "      <td>2023-02-01 00:12:33</td>\n",
       "      <td>NaN</td>\n",
       "      <td>3.05</td>\n",
       "      <td>NaN</td>\n",
       "      <td>None</td>\n",
       "      <td>107</td>\n",
       "      <td>48</td>\n",
       "      <td>0</td>\n",
       "      <td>15.80</td>\n",
       "      <td>0.0</td>\n",
       "      <td>0.5</td>\n",
       "      <td>3.96</td>\n",
       "      <td>0.0</td>\n",
       "      <td>1.0</td>\n",
       "      <td>23.76</td>\n",
       "      <td>NaN</td>\n",
       "      <td>NaN</td>\n",
       "    </tr>\n",
       "    <tr>\n",
       "      <th>3066762</th>\n",
       "      <td>2</td>\n",
       "      <td>2023-01-31 23:31:09</td>\n",
       "      <td>2023-01-31 23:50:36</td>\n",
       "      <td>NaN</td>\n",
       "      <td>5.80</td>\n",
       "      <td>NaN</td>\n",
       "      <td>None</td>\n",
       "      <td>112</td>\n",
       "      <td>75</td>\n",
       "      <td>0</td>\n",
       "      <td>22.43</td>\n",
       "      <td>0.0</td>\n",
       "      <td>0.5</td>\n",
       "      <td>2.64</td>\n",
       "      <td>0.0</td>\n",
       "      <td>1.0</td>\n",
       "      <td>29.07</td>\n",
       "      <td>NaN</td>\n",
       "      <td>NaN</td>\n",
       "    </tr>\n",
       "    <tr>\n",
       "      <th>3066763</th>\n",
       "      <td>2</td>\n",
       "      <td>2023-01-31 23:01:05</td>\n",
       "      <td>2023-01-31 23:25:36</td>\n",
       "      <td>NaN</td>\n",
       "      <td>4.67</td>\n",
       "      <td>NaN</td>\n",
       "      <td>None</td>\n",
       "      <td>114</td>\n",
       "      <td>239</td>\n",
       "      <td>0</td>\n",
       "      <td>17.61</td>\n",
       "      <td>0.0</td>\n",
       "      <td>0.5</td>\n",
       "      <td>5.32</td>\n",
       "      <td>0.0</td>\n",
       "      <td>1.0</td>\n",
       "      <td>26.93</td>\n",
       "      <td>NaN</td>\n",
       "      <td>NaN</td>\n",
       "    </tr>\n",
       "    <tr>\n",
       "      <th>3066764</th>\n",
       "      <td>2</td>\n",
       "      <td>2023-01-31 23:40:00</td>\n",
       "      <td>2023-01-31 23:53:00</td>\n",
       "      <td>NaN</td>\n",
       "      <td>3.15</td>\n",
       "      <td>NaN</td>\n",
       "      <td>None</td>\n",
       "      <td>230</td>\n",
       "      <td>79</td>\n",
       "      <td>0</td>\n",
       "      <td>18.15</td>\n",
       "      <td>0.0</td>\n",
       "      <td>0.5</td>\n",
       "      <td>4.43</td>\n",
       "      <td>0.0</td>\n",
       "      <td>1.0</td>\n",
       "      <td>26.58</td>\n",
       "      <td>NaN</td>\n",
       "      <td>NaN</td>\n",
       "    </tr>\n",
       "    <tr>\n",
       "      <th>3066765</th>\n",
       "      <td>2</td>\n",
       "      <td>2023-01-31 23:07:32</td>\n",
       "      <td>2023-01-31 23:21:56</td>\n",
       "      <td>NaN</td>\n",
       "      <td>2.85</td>\n",
       "      <td>NaN</td>\n",
       "      <td>None</td>\n",
       "      <td>262</td>\n",
       "      <td>143</td>\n",
       "      <td>0</td>\n",
       "      <td>15.97</td>\n",
       "      <td>0.0</td>\n",
       "      <td>0.5</td>\n",
       "      <td>2.00</td>\n",
       "      <td>0.0</td>\n",
       "      <td>1.0</td>\n",
       "      <td>21.97</td>\n",
       "      <td>NaN</td>\n",
       "      <td>NaN</td>\n",
       "    </tr>\n",
       "  </tbody>\n",
       "</table>\n",
       "</div>"
      ],
      "text/plain": [
       "         VendorID tpep_pickup_datetime tpep_dropoff_datetime  passenger_count  \\\n",
       "3066761         2  2023-01-31 23:58:34   2023-02-01 00:12:33              NaN   \n",
       "3066762         2  2023-01-31 23:31:09   2023-01-31 23:50:36              NaN   \n",
       "3066763         2  2023-01-31 23:01:05   2023-01-31 23:25:36              NaN   \n",
       "3066764         2  2023-01-31 23:40:00   2023-01-31 23:53:00              NaN   \n",
       "3066765         2  2023-01-31 23:07:32   2023-01-31 23:21:56              NaN   \n",
       "\n",
       "         trip_distance  RatecodeID store_and_fwd_flag  PULocationID  \\\n",
       "3066761           3.05         NaN               None           107   \n",
       "3066762           5.80         NaN               None           112   \n",
       "3066763           4.67         NaN               None           114   \n",
       "3066764           3.15         NaN               None           230   \n",
       "3066765           2.85         NaN               None           262   \n",
       "\n",
       "         DOLocationID  payment_type  fare_amount  extra  mta_tax  tip_amount  \\\n",
       "3066761            48             0        15.80    0.0      0.5        3.96   \n",
       "3066762            75             0        22.43    0.0      0.5        2.64   \n",
       "3066763           239             0        17.61    0.0      0.5        5.32   \n",
       "3066764            79             0        18.15    0.0      0.5        4.43   \n",
       "3066765           143             0        15.97    0.0      0.5        2.00   \n",
       "\n",
       "         tolls_amount  improvement_surcharge  total_amount  \\\n",
       "3066761           0.0                    1.0         23.76   \n",
       "3066762           0.0                    1.0         29.07   \n",
       "3066763           0.0                    1.0         26.93   \n",
       "3066764           0.0                    1.0         26.58   \n",
       "3066765           0.0                    1.0         21.97   \n",
       "\n",
       "         congestion_surcharge  airport_fee  \n",
       "3066761                   NaN          NaN  \n",
       "3066762                   NaN          NaN  \n",
       "3066763                   NaN          NaN  \n",
       "3066764                   NaN          NaN  \n",
       "3066765                   NaN          NaN  "
      ]
     },
     "execution_count": 1,
     "metadata": {},
     "output_type": "execute_result"
    }
   ],
   "source": [
    "import pandas as pd\n",
    "\n",
    "df = pd.read_parquet('../../data/tlc_data/2023-01.parquet')\n",
    "df.tail()"
   ]
  },
  {
   "cell_type": "markdown",
   "metadata": {},
   "source": [
    "You can then follow the tutorial using the alternative `pandas` syntax."
   ]
  },
  {
   "cell_type": "markdown",
   "metadata": {},
   "source": [
    "**Steps:**\n",
    "\n",
    "0. (Pre-Req) Install WSL2 for Windows 10 users. MacOS users, please ensure your terminal is set to `bash`.\n",
    "1. We recommend a fresh environment for this subject as there can be package conflicts, but all good if you are lazy. If you are getting errors, please refresh your environment before coming to us for help.\n",
    "2. If you are using installing for WSL, it is recommended you install Visual Studio Code and follow this [instruction](https://code.visualstudio.com/docs/remote/wsl-tutorial).\n",
    "    - Alternatively, you need to figure out \n",
    "3. Install `Java` and `PySpark`.\n",
    "\n",
    "Linux (WSL or WSL2 or native):  \n",
    "\n",
    "```bash\n",
    "# Update apt formula\n",
    "sudo apt update\n",
    "# install java\n",
    "sudo apt install openjdk-8-jdk -y\n",
    "# add to path\n",
    "echo 'JAVA_HOME=\"/usr/lib/jvm/java-8-openjdk-amd64\"' | sudo tee -a /etc/environment\n",
    "# apply to environment\n",
    "source /etc/environment\n",
    "# install spark\n",
    "pip3 install pyspark pyarrow pandas\n",
    "```\n",
    "    \n",
    "MacOS:  \n",
    "1. Install [Homebrew](https://brew.sh/). If your shell prompts to set `zsh` as default shell with `chsh -s /bin/zsh`, run that first!!  \n",
    "2. Install and setup `Java` and `JAVA_HOME` (spark uses `Java` for backend, similar to how `Pytho`n sits on top of `C`).\n",
    "```bash\n",
    "# For Intel CPU\n",
    "# install java 8 and link to system java wrapper\n",
    "brew install openjdk@8 \n",
    "# For newer version of brew, try the command below if brew install doesn't work\n",
    "#brew install --cask homebrew/cask-versions/adoptopenjdk8\n",
    "sudo ln -sfn /usr/local/opt/openjdk@8/libexec/openjdk.jdk /Library/Java/JavaVirtualMachines/openjdk-8.jdk\n",
    "# add to path (earlier OSX defaults to bash while newer ones defaults to zsh)\n",
    "echo 'export JAVA_HOME=\"$(/usr/libexec/java_home -v1.8)\"' | tee -a $HOME/.bashrc $HOME/.zshrc\n",
    "```\n",
    "\n",
    "If you are using MacOS (M1 or M2 chip), follow [this guide](https://code2care.org/q/install-native-java-jdk-jre-on-apple-silicon-m1-mac) for Java JDK or [this guide](https://gist.github.com/brianspiering/1e690b593db025b5acee920fa7330366)\n",
    "\n",
    "3. Install python packages/spark\n",
    "```bash\n",
    "# reload java path\n",
    "source $HOME/.bashrc ; source $HOME/.zshrc\n",
    "# install spark. Note: if you are using anaconda/conda environments, you need to make sure the pip3 is the correct pip3!\n",
    "# Or you should install with conda directly!\n",
    "#conda install pyspark pyarrow pandas\n",
    "pip3 install pyspark pyarrow pandas==1.5.3\n",
    "```\n",
    "\n",
    "Run the code below to see if you have installed it. As long as it runs (despite red warnings) and there are no errors, you're ready to go!\n",
    "\n",
    "Troubleshooting guides:\n",
    "1. The module is still not found after I installed everything!\n",
    "    - run `which pip` `which python` in your terminal and compare that with results of `import sys; sys.executable` running from your jupyter notebook. They have to be the same path (why?).\n",
    "    - If not same path, change the kernel of your jupyter notebook to using that python kernel.\n",
    "    \n",
    "2. The java instance stopped when executing the cell\n",
    "    - Ensure java is installed (commands executes without error)\n",
    "    - make sure `echo $JAVA_HOME` produces the proper location (i.e. it points at where your java is installed)\n",
    "    \n",
    "3. `conda`, `pip`, `apt`, `brew`... not found!\n",
    "    - Install the required softwares and make sure their home folder are present in your `echo $PATH`\n",
    "    \n",
    "4. I am using windows and I don't want to use WSL\n",
    "    - NO."
   ]
  },
  {
   "cell_type": "code",
   "execution_count": 2,
   "metadata": {
    "ExecuteTime": {
     "end_time": "2023-07-24T04:02:41.330490Z",
     "start_time": "2023-07-24T04:02:21.538832Z"
    }
   },
   "outputs": [
    {
     "name": "stderr",
     "output_type": "stream",
     "text": [
      "your 131072x1 screen size is bogus. expect trouble\n",
      "23/07/29 16:09:13 WARN Utils: Your hostname, sidneys-dell resolves to a loopback address: 127.0.1.1; using 172.22.175.227 instead (on interface eth0)\n",
      "23/07/29 16:09:13 WARN Utils: Set SPARK_LOCAL_IP if you need to bind to another address\n",
      "Setting default log level to \"WARN\".\n",
      "To adjust logging level use sc.setLogLevel(newLevel). For SparkR, use setLogLevel(newLevel).\n",
      "23/07/29 16:09:15 WARN NativeCodeLoader: Unable to load native-hadoop library for your platform... using builtin-java classes where applicable\n"
     ]
    }
   ],
   "source": [
    "from pyspark.sql import SparkSession\n",
    "\n",
    "# Create a spark session (which will run spark jobs)\n",
    "spark = (\n",
    "    SparkSession.builder.appName(\"MAST30034 Tutorial 1\")\n",
    "    .config(\"spark.sql.repl.eagerEval.enabled\", True) \n",
    "    .config(\"spark.sql.parquet.cacheMetadata\", \"true\")\n",
    "    .config(\"spark.sql.session.timeZone\", \"Etc/UTC\")\n",
    "    .getOrCreate()\n",
    ")"
   ]
  },
  {
   "cell_type": "markdown",
   "metadata": {},
   "source": [
    "## Starting a Spark Session\n",
    "To begin with Spark, we need to start a `SparkSession` class (see above).\n",
    "- `appName`: Name of the Spark app\n",
    "- `config`: Configurations to initialise with. We will initialise this example with `'spark.sql.repl.eagerEval.enabled'` which enables a nicer HTML display (similar to `pandas`) for the DataFrame outputs.\n",
    "- `.getOrCreate()`: Create the spark session.\n",
    "    \n",
    "A general note is to understand that Spark is **immutable**. We'll discuss it further down the track, but for now, just remember this!\n",
    "\n",
    "Documentation is also going to be your saving grace. If you have tried your best **and have read the documentation and researched on Stack Overflow** but still can't get it working, then try Chat-GPT. If that's not possible, then you can ask your tutor for help :P\n",
    "\n",
    "## Reading in the Parquet\n",
    "As of 2022, TLC has made a **great decision** to drop `csv` and adopt `parquet` formats instead. So, what's a `parquet`? \n",
    "\n",
    "Related materials:\n",
    "1. [What if you could get the simplicity, convenience, interoperability, and storage niceties of an old-fashioned CSV with the speed of a NoSQL database and the storage requirements of a gzipped file? Enter Parquet.](https://databricks.com/session/spark-parquet-in-depth)\n",
    "2. [The Parquet Format and Performance Optimization Opportunities](https://databricks.com/session_eu19/the-parquet-format-and-performance-optimization-opportunities)\n",
    "\n",
    "CSV:\n",
    "- `csv` are tabular data formats read in line by line using a `,` delimiter.\n",
    "- That is, these are stored by rows.\n",
    "- They consume a lot of disk space and are one of the **most inefficient** ways of storing data.\n",
    "- However, they are widely used and easy to use for smaller datasets.\n",
    "\n",
    "Parquet:\n",
    "- `parquet` on the other hand is stored in columns and (ELI5) are very efficient with data formats.\n",
    "- For example, a single row in a `csv` can contain several different data types. \n",
    "- `parquet` just have the single data type per column, allowing compression algorithms to be applied to reduce disk space and read efficiency.\n",
    "- For alternatives to `csv` for row based data formats, you can take a look at `avro`.\n",
    "\n",
    "![Divisions of storage format](../../media/storageformat.png)\n",
    "\n",
    "Cost Analysis from Amazon Web Services (AWS): ![image.png](https://miro.medium.com/max/1400/1*vdasMxTjInhBXIRA8K1XYQ.png)\n",
    "\n",
    "Spark Docs\n",
    "- https://spark.apache.org/docs/latest/api/python/reference/pyspark.sql/api/pyspark.sql.DataFrameReader.parquet.html?highlight=read%20parquet\n",
    "- https://spark.apache.org/docs/latest/api/python/reference/pyspark.sql/api/pyspark.sql.DataFrame.show.html?highlight=show#pyspark.sql.DataFrame.show"
   ]
  },
  {
   "cell_type": "code",
   "execution_count": 3,
   "metadata": {
    "ExecuteTime": {
     "end_time": "2023-07-24T04:02:52.129150Z",
     "start_time": "2023-07-24T04:02:45.036746Z"
    }
   },
   "outputs": [
    {
     "name": "stderr",
     "output_type": "stream",
     "text": [
      "                                                                                \r"
     ]
    },
    {
     "name": "stdout",
     "output_type": "stream",
     "text": [
      "-RECORD 0------------------------------------\n",
      " VendorID              | 2                   \n",
      " tpep_pickup_datetime  | 2023-01-01 00:32:10 \n",
      " tpep_dropoff_datetime | 2023-01-01 00:40:36 \n",
      " passenger_count       | 1.0                 \n",
      " trip_distance         | 0.97                \n",
      " RatecodeID            | 1.0                 \n",
      " store_and_fwd_flag    | N                   \n",
      " PULocationID          | 161                 \n",
      " DOLocationID          | 141                 \n",
      " payment_type          | 2                   \n",
      " fare_amount           | 9.3                 \n",
      " extra                 | 1.0                 \n",
      " mta_tax               | 0.5                 \n",
      " tip_amount            | 0.0                 \n",
      " tolls_amount          | 0.0                 \n",
      " improvement_surcharge | 1.0                 \n",
      " total_amount          | 14.3                \n",
      " congestion_surcharge  | 2.5                 \n",
      " airport_fee           | 0.0                 \n",
      "-RECORD 1------------------------------------\n",
      " VendorID              | 2                   \n",
      " tpep_pickup_datetime  | 2023-01-01 00:55:08 \n",
      " tpep_dropoff_datetime | 2023-01-01 01:01:27 \n",
      " passenger_count       | 1.0                 \n",
      " trip_distance         | 1.1                 \n",
      " RatecodeID            | 1.0                 \n",
      " store_and_fwd_flag    | N                   \n",
      " PULocationID          | 43                  \n",
      " DOLocationID          | 237                 \n",
      " payment_type          | 1                   \n",
      " fare_amount           | 7.9                 \n",
      " extra                 | 1.0                 \n",
      " mta_tax               | 0.5                 \n",
      " tip_amount            | 4.0                 \n",
      " tolls_amount          | 0.0                 \n",
      " improvement_surcharge | 1.0                 \n",
      " total_amount          | 16.9                \n",
      " congestion_surcharge  | 2.5                 \n",
      " airport_fee           | 0.0                 \n",
      "-RECORD 2------------------------------------\n",
      " VendorID              | 2                   \n",
      " tpep_pickup_datetime  | 2023-01-01 00:25:04 \n",
      " tpep_dropoff_datetime | 2023-01-01 00:37:49 \n",
      " passenger_count       | 1.0                 \n",
      " trip_distance         | 2.51                \n",
      " RatecodeID            | 1.0                 \n",
      " store_and_fwd_flag    | N                   \n",
      " PULocationID          | 48                  \n",
      " DOLocationID          | 238                 \n",
      " payment_type          | 1                   \n",
      " fare_amount           | 14.9                \n",
      " extra                 | 1.0                 \n",
      " mta_tax               | 0.5                 \n",
      " tip_amount            | 15.0                \n",
      " tolls_amount          | 0.0                 \n",
      " improvement_surcharge | 1.0                 \n",
      " total_amount          | 34.9                \n",
      " congestion_surcharge  | 2.5                 \n",
      " airport_fee           | 0.0                 \n",
      "only showing top 3 rows\n",
      "\n"
     ]
    }
   ],
   "source": [
    "# sdf = spark df = spark data frame\n",
    "sdf = spark.read.parquet('../../data/tlc_data/2023-01.parquet')\n",
    "sdf.show(3, vertical=True, truncate=500)"
   ]
  },
  {
   "cell_type": "markdown",
   "metadata": {},
   "source": [
    "The Spark UI is quite ugly at times, so if you miss `pandas` and want the \"nice\" display you can set `spark.sql.repl.eagerEval.enabled` to `True` in the config. To see the nice format, use `.limit()`.\n",
    "\n",
    "`pyspark`'s `.show()`, `.head()`, `.limit()`, etc are all alternatives to `pandas`'s `.head()` (`.tail` exists in both `pandas` and `pyspark`)."
   ]
  },
  {
   "cell_type": "code",
   "execution_count": 10,
   "metadata": {
    "ExecuteTime": {
     "end_time": "2023-07-24T04:03:02.224352Z",
     "start_time": "2023-07-24T04:02:59.918648Z"
    }
   },
   "outputs": [
    {
     "data": {
      "text/html": [
       "<table border='1'>\n",
       "<tr><th>VendorID</th><th>tpep_pickup_datetime</th><th>tpep_dropoff_datetime</th><th>passenger_count</th><th>trip_distance</th><th>RatecodeID</th><th>store_and_fwd_flag</th><th>PULocationID</th><th>DOLocationID</th><th>payment_type</th><th>fare_amount</th><th>extra</th><th>mta_tax</th><th>tip_amount</th><th>tolls_amount</th><th>improvement_surcharge</th><th>total_amount</th><th>congestion_surcharge</th><th>airport_fee</th></tr>\n",
       "<tr><td>2</td><td>2023-01-01 00:32:10</td><td>2023-01-01 00:40:36</td><td>1.0</td><td>0.97</td><td>1.0</td><td>N</td><td>161</td><td>141</td><td>2</td><td>9.3</td><td>1.0</td><td>0.5</td><td>0.0</td><td>0.0</td><td>1.0</td><td>14.3</td><td>2.5</td><td>0.0</td></tr>\n",
       "<tr><td>2</td><td>2023-01-01 00:55:08</td><td>2023-01-01 01:01:27</td><td>1.0</td><td>1.1</td><td>1.0</td><td>N</td><td>43</td><td>237</td><td>1</td><td>7.9</td><td>1.0</td><td>0.5</td><td>4.0</td><td>0.0</td><td>1.0</td><td>16.9</td><td>2.5</td><td>0.0</td></tr>\n",
       "<tr><td>2</td><td>2023-01-01 00:25:04</td><td>2023-01-01 00:37:49</td><td>1.0</td><td>2.51</td><td>1.0</td><td>N</td><td>48</td><td>238</td><td>1</td><td>14.9</td><td>1.0</td><td>0.5</td><td>15.0</td><td>0.0</td><td>1.0</td><td>34.9</td><td>2.5</td><td>0.0</td></tr>\n",
       "<tr><td>1</td><td>2023-01-01 00:03:48</td><td>2023-01-01 00:13:25</td><td>0.0</td><td>1.9</td><td>1.0</td><td>N</td><td>138</td><td>7</td><td>1</td><td>12.1</td><td>7.25</td><td>0.5</td><td>0.0</td><td>0.0</td><td>1.0</td><td>20.85</td><td>0.0</td><td>1.25</td></tr>\n",
       "<tr><td>2</td><td>2023-01-01 00:10:29</td><td>2023-01-01 00:21:19</td><td>1.0</td><td>1.43</td><td>1.0</td><td>N</td><td>107</td><td>79</td><td>1</td><td>11.4</td><td>1.0</td><td>0.5</td><td>3.28</td><td>0.0</td><td>1.0</td><td>19.68</td><td>2.5</td><td>0.0</td></tr>\n",
       "</table>\n"
      ],
      "text/plain": [
       "+--------+--------------------+---------------------+---------------+-------------+----------+------------------+------------+------------+------------+-----------+-----+-------+----------+------------+---------------------+------------+--------------------+-----------+\n",
       "|VendorID|tpep_pickup_datetime|tpep_dropoff_datetime|passenger_count|trip_distance|RatecodeID|store_and_fwd_flag|PULocationID|DOLocationID|payment_type|fare_amount|extra|mta_tax|tip_amount|tolls_amount|improvement_surcharge|total_amount|congestion_surcharge|airport_fee|\n",
       "+--------+--------------------+---------------------+---------------+-------------+----------+------------------+------------+------------+------------+-----------+-----+-------+----------+------------+---------------------+------------+--------------------+-----------+\n",
       "|       2| 2023-01-01 00:32:10|  2023-01-01 00:40:36|            1.0|         0.97|       1.0|                 N|         161|         141|           2|        9.3|  1.0|    0.5|       0.0|         0.0|                  1.0|        14.3|                 2.5|        0.0|\n",
       "|       2| 2023-01-01 00:55:08|  2023-01-01 01:01:27|            1.0|          1.1|       1.0|                 N|          43|         237|           1|        7.9|  1.0|    0.5|       4.0|         0.0|                  1.0|        16.9|                 2.5|        0.0|\n",
       "|       2| 2023-01-01 00:25:04|  2023-01-01 00:37:49|            1.0|         2.51|       1.0|                 N|          48|         238|           1|       14.9|  1.0|    0.5|      15.0|         0.0|                  1.0|        34.9|                 2.5|        0.0|\n",
       "|       1| 2023-01-01 00:03:48|  2023-01-01 00:13:25|            0.0|          1.9|       1.0|                 N|         138|           7|           1|       12.1| 7.25|    0.5|       0.0|         0.0|                  1.0|       20.85|                 0.0|       1.25|\n",
       "|       2| 2023-01-01 00:10:29|  2023-01-01 00:21:19|            1.0|         1.43|       1.0|                 N|         107|          79|           1|       11.4|  1.0|    0.5|      3.28|         0.0|                  1.0|       19.68|                 2.5|        0.0|\n",
       "+--------+--------------------+---------------------+---------------+-------------+----------+------------------+------------+------------+------------+-----------+-----+-------+----------+------------+---------------------+------------+--------------------+-----------+"
      ]
     },
     "execution_count": 10,
     "metadata": {},
     "output_type": "execute_result"
    }
   ],
   "source": [
    "sdf.limit(5)"
   ]
  },
  {
   "cell_type": "code",
   "execution_count": 15,
   "metadata": {},
   "outputs": [
    {
     "name": "stderr",
     "output_type": "stream",
     "text": [
      "                                                                                \r"
     ]
    },
    {
     "data": {
      "text/plain": [
       "[Row(VendorID=2, tpep_pickup_datetime=datetime.datetime(2023, 1, 31, 23, 58, 34), tpep_dropoff_datetime=datetime.datetime(2023, 2, 1, 0, 12, 33), passenger_count=None, trip_distance=3.05, RatecodeID=None, store_and_fwd_flag=None, PULocationID=107, DOLocationID=48, payment_type=0, fare_amount=15.8, extra=0.0, mta_tax=0.5, tip_amount=3.96, tolls_amount=0.0, improvement_surcharge=1.0, total_amount=23.76, congestion_surcharge=None, airport_fee=None),\n",
       " Row(VendorID=2, tpep_pickup_datetime=datetime.datetime(2023, 1, 31, 23, 31, 9), tpep_dropoff_datetime=datetime.datetime(2023, 1, 31, 23, 50, 36), passenger_count=None, trip_distance=5.8, RatecodeID=None, store_and_fwd_flag=None, PULocationID=112, DOLocationID=75, payment_type=0, fare_amount=22.43, extra=0.0, mta_tax=0.5, tip_amount=2.64, tolls_amount=0.0, improvement_surcharge=1.0, total_amount=29.07, congestion_surcharge=None, airport_fee=None),\n",
       " Row(VendorID=2, tpep_pickup_datetime=datetime.datetime(2023, 1, 31, 23, 1, 5), tpep_dropoff_datetime=datetime.datetime(2023, 1, 31, 23, 25, 36), passenger_count=None, trip_distance=4.67, RatecodeID=None, store_and_fwd_flag=None, PULocationID=114, DOLocationID=239, payment_type=0, fare_amount=17.61, extra=0.0, mta_tax=0.5, tip_amount=5.32, tolls_amount=0.0, improvement_surcharge=1.0, total_amount=26.93, congestion_surcharge=None, airport_fee=None),\n",
       " Row(VendorID=2, tpep_pickup_datetime=datetime.datetime(2023, 1, 31, 23, 40), tpep_dropoff_datetime=datetime.datetime(2023, 1, 31, 23, 53), passenger_count=None, trip_distance=3.15, RatecodeID=None, store_and_fwd_flag=None, PULocationID=230, DOLocationID=79, payment_type=0, fare_amount=18.15, extra=0.0, mta_tax=0.5, tip_amount=4.43, tolls_amount=0.0, improvement_surcharge=1.0, total_amount=26.58, congestion_surcharge=None, airport_fee=None),\n",
       " Row(VendorID=2, tpep_pickup_datetime=datetime.datetime(2023, 1, 31, 23, 7, 32), tpep_dropoff_datetime=datetime.datetime(2023, 1, 31, 23, 21, 56), passenger_count=None, trip_distance=2.85, RatecodeID=None, store_and_fwd_flag=None, PULocationID=262, DOLocationID=143, payment_type=0, fare_amount=15.97, extra=0.0, mta_tax=0.5, tip_amount=2.0, tolls_amount=0.0, improvement_surcharge=1.0, total_amount=21.97, congestion_surcharge=None, airport_fee=None)]"
      ]
     },
     "execution_count": 15,
     "metadata": {},
     "output_type": "execute_result"
    }
   ],
   "source": [
    "sdf.tail(5)"
   ]
  },
  {
   "cell_type": "markdown",
   "metadata": {},
   "source": [
    "Spark has also been designed to read in directories as well! We won't be using it for the tutorial, but if you wish to use it for your project, feel free to do so!"
   ]
  },
  {
   "cell_type": "code",
   "execution_count": 13,
   "metadata": {
    "ExecuteTime": {
     "end_time": "2023-07-24T04:03:02.413366Z",
     "start_time": "2023-07-24T04:03:02.225507Z"
    }
   },
   "outputs": [],
   "source": [
    "# here, we give it the directory, rather than a specific parquet\n",
    "sdf_all = spark.read.parquet('../../data/tlc_data/')"
   ]
  },
  {
   "cell_type": "markdown",
   "metadata": {},
   "source": [
    "To count the number of records, use the `.count()` method. The equivalent in `pandas` would be `len(df)` or `df.shape` or alternative. "
   ]
  },
  {
   "cell_type": "code",
   "execution_count": 16,
   "metadata": {
    "ExecuteTime": {
     "end_time": "2023-07-24T04:03:05.617652Z",
     "start_time": "2023-07-24T04:03:04.487043Z"
    }
   },
   "outputs": [
    {
     "data": {
      "text/plain": [
       "(3066766, 9384487)"
      ]
     },
     "execution_count": 16,
     "metadata": {},
     "output_type": "execute_result"
    }
   ],
   "source": [
    "sdf.count(), sdf_all.count()"
   ]
  },
  {
   "cell_type": "markdown",
   "metadata": {},
   "source": [
    "To view the data types of our `sdf`, we can use:\n",
    "- `.printSchema()` to print it nicely.\n",
    "- `.schema` for the actual schema object\n",
    "\n",
    "The `pandas` alternative is `df.dtypes`"
   ]
  },
  {
   "cell_type": "code",
   "execution_count": 17,
   "metadata": {
    "ExecuteTime": {
     "end_time": "2023-07-24T04:03:05.638872Z",
     "start_time": "2023-07-24T04:03:05.619077Z"
    }
   },
   "outputs": [
    {
     "name": "stdout",
     "output_type": "stream",
     "text": [
      "root\n",
      " |-- VendorID: long (nullable = true)\n",
      " |-- tpep_pickup_datetime: timestamp_ntz (nullable = true)\n",
      " |-- tpep_dropoff_datetime: timestamp_ntz (nullable = true)\n",
      " |-- passenger_count: double (nullable = true)\n",
      " |-- trip_distance: double (nullable = true)\n",
      " |-- RatecodeID: double (nullable = true)\n",
      " |-- store_and_fwd_flag: string (nullable = true)\n",
      " |-- PULocationID: long (nullable = true)\n",
      " |-- DOLocationID: long (nullable = true)\n",
      " |-- payment_type: long (nullable = true)\n",
      " |-- fare_amount: double (nullable = true)\n",
      " |-- extra: double (nullable = true)\n",
      " |-- mta_tax: double (nullable = true)\n",
      " |-- tip_amount: double (nullable = true)\n",
      " |-- tolls_amount: double (nullable = true)\n",
      " |-- improvement_surcharge: double (nullable = true)\n",
      " |-- total_amount: double (nullable = true)\n",
      " |-- congestion_surcharge: double (nullable = true)\n",
      " |-- airport_fee: double (nullable = true)\n",
      "\n"
     ]
    }
   ],
   "source": [
    "sdf.printSchema()"
   ]
  },
  {
   "cell_type": "code",
   "execution_count": 18,
   "metadata": {
    "ExecuteTime": {
     "end_time": "2023-07-24T04:03:05.731117Z",
     "start_time": "2023-07-24T04:03:05.723079Z"
    }
   },
   "outputs": [
    {
     "data": {
      "text/plain": [
       "StructType([StructField('VendorID', LongType(), True), StructField('tpep_pickup_datetime', TimestampNTZType(), True), StructField('tpep_dropoff_datetime', TimestampNTZType(), True), StructField('passenger_count', DoubleType(), True), StructField('trip_distance', DoubleType(), True), StructField('RatecodeID', DoubleType(), True), StructField('store_and_fwd_flag', StringType(), True), StructField('PULocationID', LongType(), True), StructField('DOLocationID', LongType(), True), StructField('payment_type', LongType(), True), StructField('fare_amount', DoubleType(), True), StructField('extra', DoubleType(), True), StructField('mta_tax', DoubleType(), True), StructField('tip_amount', DoubleType(), True), StructField('tolls_amount', DoubleType(), True), StructField('improvement_surcharge', DoubleType(), True), StructField('total_amount', DoubleType(), True), StructField('congestion_surcharge', DoubleType(), True), StructField('airport_fee', DoubleType(), True)])"
      ]
     },
     "execution_count": 18,
     "metadata": {},
     "output_type": "execute_result"
    }
   ],
   "source": [
    "sdf.schema"
   ]
  },
  {
   "cell_type": "markdown",
   "metadata": {},
   "source": [
    "See here for the available data types: https://spark.apache.org/docs/latest/sql-ref-datatypes.html"
   ]
  },
  {
   "cell_type": "markdown",
   "metadata": {},
   "source": [
    "## Basic Operations\n",
    "### Selection\n",
    "To show a specific column, we will use `sdf.select(col).limit(5)`. \n",
    "- The equivalent in `pandas` is `df[col].head()`.\n",
    "\n",
    "To _access_ a specific column, use the `sdf[col]` syntax (equivalent to `df[col]`). Avoid using `sdf.col` or `df.col` as it is **not** robust (cannot handle columns with spaces) or future-proof. \n",
    "\n",
    "For multiple columns, pass them through an array as usual.\n",
    "\n",
    "Please note, this selection is only good for seeing bits and pieces of data and not for filtering."
   ]
  },
  {
   "cell_type": "code",
   "execution_count": 22,
   "metadata": {
    "ExecuteTime": {
     "end_time": "2023-07-24T04:03:09.238597Z",
     "start_time": "2023-07-24T04:03:08.260421Z"
    }
   },
   "outputs": [
    {
     "data": {
      "text/html": [
       "<table border='1'>\n",
       "<tr><th>passenger_count</th></tr>\n",
       "<tr><td>1.0</td></tr>\n",
       "<tr><td>1.0</td></tr>\n",
       "<tr><td>1.0</td></tr>\n",
       "<tr><td>0.0</td></tr>\n",
       "<tr><td>1.0</td></tr>\n",
       "<tr><td>1.0</td></tr>\n",
       "<tr><td>1.0</td></tr>\n",
       "<tr><td>1.0</td></tr>\n",
       "<tr><td>1.0</td></tr>\n",
       "<tr><td>1.0</td></tr>\n",
       "<tr><td>1.0</td></tr>\n",
       "<tr><td>4.0</td></tr>\n",
       "<tr><td>1.0</td></tr>\n",
       "<tr><td>2.0</td></tr>\n",
       "<tr><td>1.0</td></tr>\n",
       "<tr><td>1.0</td></tr>\n",
       "<tr><td>1.0</td></tr>\n",
       "<tr><td>1.0</td></tr>\n",
       "<tr><td>3.0</td></tr>\n",
       "<tr><td>2.0</td></tr>\n",
       "</table>\n",
       "only showing top 20 rows\n"
      ],
      "text/plain": [
       "+---------------+\n",
       "|passenger_count|\n",
       "+---------------+\n",
       "|            1.0|\n",
       "|            1.0|\n",
       "|            1.0|\n",
       "|            0.0|\n",
       "|            1.0|\n",
       "|            1.0|\n",
       "|            1.0|\n",
       "|            1.0|\n",
       "|            1.0|\n",
       "|            1.0|\n",
       "|            1.0|\n",
       "|            4.0|\n",
       "|            1.0|\n",
       "|            2.0|\n",
       "|            1.0|\n",
       "|            1.0|\n",
       "|            1.0|\n",
       "|            1.0|\n",
       "|            3.0|\n",
       "|            2.0|\n",
       "+---------------+\n",
       "only showing top 20 rows"
      ]
     },
     "execution_count": 22,
     "metadata": {},
     "output_type": "execute_result"
    }
   ],
   "source": [
    "sdf.select('passenger_count').limit(50)"
   ]
  },
  {
   "cell_type": "markdown",
   "metadata": {},
   "source": [
    "_Students to write code to select the first 10 records for `passenger_count` and `trip_distance`_"
   ]
  },
  {
   "cell_type": "code",
   "execution_count": 27,
   "metadata": {
    "ExecuteTime": {
     "end_time": "2023-07-24T04:03:13.527228Z",
     "start_time": "2023-07-24T04:03:12.397628Z"
    }
   },
   "outputs": [
    {
     "name": "stdout",
     "output_type": "stream",
     "text": [
      "+---------------+-------------+\n",
      "|passenger_count|trip_distance|\n",
      "+---------------+-------------+\n",
      "|            1.0|         0.97|\n",
      "|            1.0|          1.1|\n",
      "|            1.0|         2.51|\n",
      "|            0.0|          1.9|\n",
      "|            1.0|         1.43|\n",
      "|            1.0|         1.84|\n",
      "|            1.0|         1.66|\n",
      "|            1.0|         11.7|\n",
      "|            1.0|         2.95|\n",
      "|            1.0|         3.01|\n",
      "+---------------+-------------+\n",
      "\n"
     ]
    },
    {
     "data": {
      "text/html": [
       "<table border='1'>\n",
       "<tr><th>passenger_count</th><th>trip_distance</th></tr>\n",
       "<tr><td>1.0</td><td>0.97</td></tr>\n",
       "<tr><td>1.0</td><td>1.1</td></tr>\n",
       "<tr><td>1.0</td><td>2.51</td></tr>\n",
       "<tr><td>0.0</td><td>1.9</td></tr>\n",
       "<tr><td>1.0</td><td>1.43</td></tr>\n",
       "<tr><td>1.0</td><td>1.84</td></tr>\n",
       "<tr><td>1.0</td><td>1.66</td></tr>\n",
       "<tr><td>1.0</td><td>11.7</td></tr>\n",
       "<tr><td>1.0</td><td>2.95</td></tr>\n",
       "<tr><td>1.0</td><td>3.01</td></tr>\n",
       "</table>\n"
      ],
      "text/plain": [
       "+---------------+-------------+\n",
       "|passenger_count|trip_distance|\n",
       "+---------------+-------------+\n",
       "|            1.0|         0.97|\n",
       "|            1.0|          1.1|\n",
       "|            1.0|         2.51|\n",
       "|            0.0|          1.9|\n",
       "|            1.0|         1.43|\n",
       "|            1.0|         1.84|\n",
       "|            1.0|         1.66|\n",
       "|            1.0|         11.7|\n",
       "|            1.0|         2.95|\n",
       "|            1.0|         3.01|\n",
       "+---------------+-------------+"
      ]
     },
     "execution_count": 27,
     "metadata": {},
     "output_type": "execute_result"
    }
   ],
   "source": [
    "# write code here to select the first 10 records for `passenger_count` and `trip_distance`\n",
    "\n",
    "# solution 1\n",
    "print(sdf.select('passenger_count', 'trip_distance').limit(10))\n",
    "\n",
    "# solution 2\n",
    "required_cols = ('passenger_count', 'trip_distance')\n",
    "sdf.select(*required_cols).limit(10)"
   ]
  },
  {
   "cell_type": "markdown",
   "metadata": {},
   "source": [
    "### Filtering\n",
    "For filtering data, we use `sdf.filter(condition)` or `sdf.where(condition)` (they are aliases of each other)\n",
    "- The equivalent in `pandas` is `df.loc[condition].head()`\n",
    "- When using multiple conditions, use parenthesis and `&` (AND) / `|` (OR)\n",
    "\n",
    "To do so, we will use `pyspark.sql.functions.col` to specify the column we are working with."
   ]
  },
  {
   "cell_type": "code",
   "execution_count": 28,
   "metadata": {
    "ExecuteTime": {
     "end_time": "2023-07-24T04:03:15.415531Z",
     "start_time": "2023-07-24T04:03:15.391510Z"
    }
   },
   "outputs": [],
   "source": [
    "from pyspark.sql import functions as F"
   ]
  },
  {
   "cell_type": "code",
   "execution_count": 29,
   "metadata": {
    "ExecuteTime": {
     "end_time": "2023-07-24T04:03:15.932836Z",
     "start_time": "2023-07-24T04:03:15.595811Z"
    }
   },
   "outputs": [
    {
     "data": {
      "text/plain": [
       "Column<'passenger_count'>"
      ]
     },
     "execution_count": 29,
     "metadata": {},
     "output_type": "execute_result"
    }
   ],
   "source": [
    "F.col(\"passenger_count\")"
   ]
  },
  {
   "cell_type": "markdown",
   "metadata": {},
   "source": [
    "As you can see, this is just a \"column type\" and doesn't do much. We'll come back to this in the next tutorial. For now, take our word."
   ]
  },
  {
   "cell_type": "code",
   "execution_count": 33,
   "metadata": {},
   "outputs": [
    {
     "data": {
      "text/html": [
       "<table border='1'>\n",
       "<tr><th>VendorID</th><th>tpep_pickup_datetime</th><th>tpep_dropoff_datetime</th><th>passenger_count</th><th>trip_distance</th><th>RatecodeID</th><th>store_and_fwd_flag</th><th>PULocationID</th><th>DOLocationID</th><th>payment_type</th><th>fare_amount</th><th>extra</th><th>mta_tax</th><th>tip_amount</th><th>tolls_amount</th><th>improvement_surcharge</th><th>total_amount</th><th>congestion_surcharge</th><th>airport_fee</th></tr>\n",
       "<tr><td>2</td><td>2023-01-01 00:15:13</td><td>2023-01-01 00:24:45</td><td>5.0</td><td>1.3</td><td>1.0</td><td>N</td><td>79</td><td>170</td><td>1</td><td>10.7</td><td>1.0</td><td>0.5</td><td>3.14</td><td>0.0</td><td>1.0</td><td>18.84</td><td>2.5</td><td>0.0</td></tr>\n",
       "<tr><td>2</td><td>2023-01-01 00:30:31</td><td>2023-01-01 00:47:03</td><td>5.0</td><td>2.32</td><td>1.0</td><td>N</td><td>170</td><td>43</td><td>1</td><td>16.3</td><td>1.0</td><td>0.5</td><td>5.32</td><td>0.0</td><td>1.0</td><td>26.62</td><td>2.5</td><td>0.0</td></tr>\n",
       "<tr><td>2</td><td>2023-01-01 00:47:59</td><td>2023-01-01 01:16:34</td><td>5.0</td><td>2.35</td><td>1.0</td><td>N</td><td>43</td><td>233</td><td>1</td><td>23.3</td><td>1.0</td><td>0.5</td><td>5.66</td><td>0.0</td><td>1.0</td><td>33.96</td><td>2.5</td><td>0.0</td></tr>\n",
       "<tr><td>2</td><td>2023-01-01 00:14:31</td><td>2023-01-01 00:42:18</td><td>5.0</td><td>4.23</td><td>1.0</td><td>N</td><td>79</td><td>50</td><td>1</td><td>28.2</td><td>1.0</td><td>0.5</td><td>3.35</td><td>0.0</td><td>1.0</td><td>36.55</td><td>2.5</td><td>0.0</td></tr>\n",
       "<tr><td>2</td><td>2023-01-01 00:45:27</td><td>2023-01-01 01:00:03</td><td>5.0</td><td>3.09</td><td>1.0</td><td>N</td><td>48</td><td>151</td><td>2</td><td>17.0</td><td>1.0</td><td>0.5</td><td>0.0</td><td>0.0</td><td>1.0</td><td>22.0</td><td>2.5</td><td>0.0</td></tr>\n",
       "</table>\n"
      ],
      "text/plain": [
       "+--------+--------------------+---------------------+---------------+-------------+----------+------------------+------------+------------+------------+-----------+-----+-------+----------+------------+---------------------+------------+--------------------+-----------+\n",
       "|VendorID|tpep_pickup_datetime|tpep_dropoff_datetime|passenger_count|trip_distance|RatecodeID|store_and_fwd_flag|PULocationID|DOLocationID|payment_type|fare_amount|extra|mta_tax|tip_amount|tolls_amount|improvement_surcharge|total_amount|congestion_surcharge|airport_fee|\n",
       "+--------+--------------------+---------------------+---------------+-------------+----------+------------------+------------+------------+------------+-----------+-----+-------+----------+------------+---------------------+------------+--------------------+-----------+\n",
       "|       2| 2023-01-01 00:15:13|  2023-01-01 00:24:45|            5.0|          1.3|       1.0|                 N|          79|         170|           1|       10.7|  1.0|    0.5|      3.14|         0.0|                  1.0|       18.84|                 2.5|        0.0|\n",
       "|       2| 2023-01-01 00:30:31|  2023-01-01 00:47:03|            5.0|         2.32|       1.0|                 N|         170|          43|           1|       16.3|  1.0|    0.5|      5.32|         0.0|                  1.0|       26.62|                 2.5|        0.0|\n",
       "|       2| 2023-01-01 00:47:59|  2023-01-01 01:16:34|            5.0|         2.35|       1.0|                 N|          43|         233|           1|       23.3|  1.0|    0.5|      5.66|         0.0|                  1.0|       33.96|                 2.5|        0.0|\n",
       "|       2| 2023-01-01 00:14:31|  2023-01-01 00:42:18|            5.0|         4.23|       1.0|                 N|          79|          50|           1|       28.2|  1.0|    0.5|      3.35|         0.0|                  1.0|       36.55|                 2.5|        0.0|\n",
       "|       2| 2023-01-01 00:45:27|  2023-01-01 01:00:03|            5.0|         3.09|       1.0|                 N|          48|         151|           2|       17.0|  1.0|    0.5|       0.0|         0.0|                  1.0|        22.0|                 2.5|        0.0|\n",
       "+--------+--------------------+---------------------+---------------+-------------+----------+------------------+------------+------------+------------+-----------+-----+-------+----------+------------+---------------------+------------+--------------------+-----------+"
      ]
     },
     "execution_count": 33,
     "metadata": {},
     "output_type": "execute_result"
    }
   ],
   "source": [
    "sdf.filter(sdf['passenger_count'] == 5).limit(5)"
   ]
  },
  {
   "cell_type": "code",
   "execution_count": 30,
   "metadata": {
    "ExecuteTime": {
     "end_time": "2023-07-24T04:03:18.276168Z",
     "start_time": "2023-07-24T04:03:16.125585Z"
    }
   },
   "outputs": [
    {
     "data": {
      "text/html": [
       "<table border='1'>\n",
       "<tr><th>VendorID</th><th>tpep_pickup_datetime</th><th>tpep_dropoff_datetime</th><th>passenger_count</th><th>trip_distance</th><th>RatecodeID</th><th>store_and_fwd_flag</th><th>PULocationID</th><th>DOLocationID</th><th>payment_type</th><th>fare_amount</th><th>extra</th><th>mta_tax</th><th>tip_amount</th><th>tolls_amount</th><th>improvement_surcharge</th><th>total_amount</th><th>congestion_surcharge</th><th>airport_fee</th></tr>\n",
       "<tr><td>2</td><td>2023-01-01 00:15:13</td><td>2023-01-01 00:24:45</td><td>5.0</td><td>1.3</td><td>1.0</td><td>N</td><td>79</td><td>170</td><td>1</td><td>10.7</td><td>1.0</td><td>0.5</td><td>3.14</td><td>0.0</td><td>1.0</td><td>18.84</td><td>2.5</td><td>0.0</td></tr>\n",
       "<tr><td>2</td><td>2023-01-01 00:30:31</td><td>2023-01-01 00:47:03</td><td>5.0</td><td>2.32</td><td>1.0</td><td>N</td><td>170</td><td>43</td><td>1</td><td>16.3</td><td>1.0</td><td>0.5</td><td>5.32</td><td>0.0</td><td>1.0</td><td>26.62</td><td>2.5</td><td>0.0</td></tr>\n",
       "<tr><td>2</td><td>2023-01-01 00:47:59</td><td>2023-01-01 01:16:34</td><td>5.0</td><td>2.35</td><td>1.0</td><td>N</td><td>43</td><td>233</td><td>1</td><td>23.3</td><td>1.0</td><td>0.5</td><td>5.66</td><td>0.0</td><td>1.0</td><td>33.96</td><td>2.5</td><td>0.0</td></tr>\n",
       "<tr><td>2</td><td>2023-01-01 00:14:31</td><td>2023-01-01 00:42:18</td><td>5.0</td><td>4.23</td><td>1.0</td><td>N</td><td>79</td><td>50</td><td>1</td><td>28.2</td><td>1.0</td><td>0.5</td><td>3.35</td><td>0.0</td><td>1.0</td><td>36.55</td><td>2.5</td><td>0.0</td></tr>\n",
       "<tr><td>2</td><td>2023-01-01 00:45:27</td><td>2023-01-01 01:00:03</td><td>5.0</td><td>3.09</td><td>1.0</td><td>N</td><td>48</td><td>151</td><td>2</td><td>17.0</td><td>1.0</td><td>0.5</td><td>0.0</td><td>0.0</td><td>1.0</td><td>22.0</td><td>2.5</td><td>0.0</td></tr>\n",
       "</table>\n"
      ],
      "text/plain": [
       "+--------+--------------------+---------------------+---------------+-------------+----------+------------------+------------+------------+------------+-----------+-----+-------+----------+------------+---------------------+------------+--------------------+-----------+\n",
       "|VendorID|tpep_pickup_datetime|tpep_dropoff_datetime|passenger_count|trip_distance|RatecodeID|store_and_fwd_flag|PULocationID|DOLocationID|payment_type|fare_amount|extra|mta_tax|tip_amount|tolls_amount|improvement_surcharge|total_amount|congestion_surcharge|airport_fee|\n",
       "+--------+--------------------+---------------------+---------------+-------------+----------+------------------+------------+------------+------------+-----------+-----+-------+----------+------------+---------------------+------------+--------------------+-----------+\n",
       "|       2| 2023-01-01 00:15:13|  2023-01-01 00:24:45|            5.0|          1.3|       1.0|                 N|          79|         170|           1|       10.7|  1.0|    0.5|      3.14|         0.0|                  1.0|       18.84|                 2.5|        0.0|\n",
       "|       2| 2023-01-01 00:30:31|  2023-01-01 00:47:03|            5.0|         2.32|       1.0|                 N|         170|          43|           1|       16.3|  1.0|    0.5|      5.32|         0.0|                  1.0|       26.62|                 2.5|        0.0|\n",
       "|       2| 2023-01-01 00:47:59|  2023-01-01 01:16:34|            5.0|         2.35|       1.0|                 N|          43|         233|           1|       23.3|  1.0|    0.5|      5.66|         0.0|                  1.0|       33.96|                 2.5|        0.0|\n",
       "|       2| 2023-01-01 00:14:31|  2023-01-01 00:42:18|            5.0|         4.23|       1.0|                 N|          79|          50|           1|       28.2|  1.0|    0.5|      3.35|         0.0|                  1.0|       36.55|                 2.5|        0.0|\n",
       "|       2| 2023-01-01 00:45:27|  2023-01-01 01:00:03|            5.0|         3.09|       1.0|                 N|          48|         151|           2|       17.0|  1.0|    0.5|       0.0|         0.0|                  1.0|        22.0|                 2.5|        0.0|\n",
       "+--------+--------------------+---------------------+---------------+-------------+----------+------------------+------------+------------+------------+-----------+-----+-------+----------+------------+---------------------+------------+--------------------+-----------+"
      ]
     },
     "execution_count": 30,
     "metadata": {},
     "output_type": "execute_result"
    }
   ],
   "source": [
    "sdf.filter(F.col('passenger_count') == 5).limit(5)"
   ]
  },
  {
   "cell_type": "markdown",
   "metadata": {},
   "source": [
    "_Students to write code to retrieve all non-zero passenger counts and all non-zero trip distances using `.where()`_"
   ]
  },
  {
   "cell_type": "code",
   "execution_count": 37,
   "metadata": {
    "ExecuteTime": {
     "end_time": "2023-07-24T04:03:19.219000Z",
     "start_time": "2023-07-24T04:03:18.277699Z"
    }
   },
   "outputs": [
    {
     "data": {
      "text/html": [
       "<table border='1'>\n",
       "<tr><th>VendorID</th><th>tpep_pickup_datetime</th><th>tpep_dropoff_datetime</th><th>passenger_count</th><th>trip_distance</th><th>RatecodeID</th><th>store_and_fwd_flag</th><th>PULocationID</th><th>DOLocationID</th><th>payment_type</th><th>fare_amount</th><th>extra</th><th>mta_tax</th><th>tip_amount</th><th>tolls_amount</th><th>improvement_surcharge</th><th>total_amount</th><th>congestion_surcharge</th><th>airport_fee</th></tr>\n",
       "<tr><td>2</td><td>2023-01-01 00:32:10</td><td>2023-01-01 00:40:36</td><td>1.0</td><td>0.97</td><td>1.0</td><td>N</td><td>161</td><td>141</td><td>2</td><td>9.3</td><td>1.0</td><td>0.5</td><td>0.0</td><td>0.0</td><td>1.0</td><td>14.3</td><td>2.5</td><td>0.0</td></tr>\n",
       "<tr><td>2</td><td>2023-01-01 00:55:08</td><td>2023-01-01 01:01:27</td><td>1.0</td><td>1.1</td><td>1.0</td><td>N</td><td>43</td><td>237</td><td>1</td><td>7.9</td><td>1.0</td><td>0.5</td><td>4.0</td><td>0.0</td><td>1.0</td><td>16.9</td><td>2.5</td><td>0.0</td></tr>\n",
       "<tr><td>2</td><td>2023-01-01 00:25:04</td><td>2023-01-01 00:37:49</td><td>1.0</td><td>2.51</td><td>1.0</td><td>N</td><td>48</td><td>238</td><td>1</td><td>14.9</td><td>1.0</td><td>0.5</td><td>15.0</td><td>0.0</td><td>1.0</td><td>34.9</td><td>2.5</td><td>0.0</td></tr>\n",
       "<tr><td>1</td><td>2023-01-01 00:03:48</td><td>2023-01-01 00:13:25</td><td>0.0</td><td>1.9</td><td>1.0</td><td>N</td><td>138</td><td>7</td><td>1</td><td>12.1</td><td>7.25</td><td>0.5</td><td>0.0</td><td>0.0</td><td>1.0</td><td>20.85</td><td>0.0</td><td>1.25</td></tr>\n",
       "<tr><td>2</td><td>2023-01-01 00:10:29</td><td>2023-01-01 00:21:19</td><td>1.0</td><td>1.43</td><td>1.0</td><td>N</td><td>107</td><td>79</td><td>1</td><td>11.4</td><td>1.0</td><td>0.5</td><td>3.28</td><td>0.0</td><td>1.0</td><td>19.68</td><td>2.5</td><td>0.0</td></tr>\n",
       "<tr><td>2</td><td>2023-01-01 00:50:34</td><td>2023-01-01 01:02:52</td><td>1.0</td><td>1.84</td><td>1.0</td><td>N</td><td>161</td><td>137</td><td>1</td><td>12.8</td><td>1.0</td><td>0.5</td><td>10.0</td><td>0.0</td><td>1.0</td><td>27.8</td><td>2.5</td><td>0.0</td></tr>\n",
       "<tr><td>2</td><td>2023-01-01 00:09:22</td><td>2023-01-01 00:19:49</td><td>1.0</td><td>1.66</td><td>1.0</td><td>N</td><td>239</td><td>143</td><td>1</td><td>12.1</td><td>1.0</td><td>0.5</td><td>3.42</td><td>0.0</td><td>1.0</td><td>20.52</td><td>2.5</td><td>0.0</td></tr>\n",
       "<tr><td>2</td><td>2023-01-01 00:27:12</td><td>2023-01-01 00:49:56</td><td>1.0</td><td>11.7</td><td>1.0</td><td>N</td><td>142</td><td>200</td><td>1</td><td>45.7</td><td>1.0</td><td>0.5</td><td>10.74</td><td>3.0</td><td>1.0</td><td>64.44</td><td>2.5</td><td>0.0</td></tr>\n",
       "<tr><td>2</td><td>2023-01-01 00:21:44</td><td>2023-01-01 00:36:40</td><td>1.0</td><td>2.95</td><td>1.0</td><td>N</td><td>164</td><td>236</td><td>1</td><td>17.7</td><td>1.0</td><td>0.5</td><td>5.68</td><td>0.0</td><td>1.0</td><td>28.38</td><td>2.5</td><td>0.0</td></tr>\n",
       "<tr><td>2</td><td>2023-01-01 00:39:42</td><td>2023-01-01 00:50:36</td><td>1.0</td><td>3.01</td><td>1.0</td><td>N</td><td>141</td><td>107</td><td>2</td><td>14.9</td><td>1.0</td><td>0.5</td><td>0.0</td><td>0.0</td><td>1.0</td><td>19.9</td><td>2.5</td><td>0.0</td></tr>\n",
       "</table>\n"
      ],
      "text/plain": [
       "+--------+--------------------+---------------------+---------------+-------------+----------+------------------+------------+------------+------------+-----------+-----+-------+----------+------------+---------------------+------------+--------------------+-----------+\n",
       "|VendorID|tpep_pickup_datetime|tpep_dropoff_datetime|passenger_count|trip_distance|RatecodeID|store_and_fwd_flag|PULocationID|DOLocationID|payment_type|fare_amount|extra|mta_tax|tip_amount|tolls_amount|improvement_surcharge|total_amount|congestion_surcharge|airport_fee|\n",
       "+--------+--------------------+---------------------+---------------+-------------+----------+------------------+------------+------------+------------+-----------+-----+-------+----------+------------+---------------------+------------+--------------------+-----------+\n",
       "|       2| 2023-01-01 00:32:10|  2023-01-01 00:40:36|            1.0|         0.97|       1.0|                 N|         161|         141|           2|        9.3|  1.0|    0.5|       0.0|         0.0|                  1.0|        14.3|                 2.5|        0.0|\n",
       "|       2| 2023-01-01 00:55:08|  2023-01-01 01:01:27|            1.0|          1.1|       1.0|                 N|          43|         237|           1|        7.9|  1.0|    0.5|       4.0|         0.0|                  1.0|        16.9|                 2.5|        0.0|\n",
       "|       2| 2023-01-01 00:25:04|  2023-01-01 00:37:49|            1.0|         2.51|       1.0|                 N|          48|         238|           1|       14.9|  1.0|    0.5|      15.0|         0.0|                  1.0|        34.9|                 2.5|        0.0|\n",
       "|       1| 2023-01-01 00:03:48|  2023-01-01 00:13:25|            0.0|          1.9|       1.0|                 N|         138|           7|           1|       12.1| 7.25|    0.5|       0.0|         0.0|                  1.0|       20.85|                 0.0|       1.25|\n",
       "|       2| 2023-01-01 00:10:29|  2023-01-01 00:21:19|            1.0|         1.43|       1.0|                 N|         107|          79|           1|       11.4|  1.0|    0.5|      3.28|         0.0|                  1.0|       19.68|                 2.5|        0.0|\n",
       "|       2| 2023-01-01 00:50:34|  2023-01-01 01:02:52|            1.0|         1.84|       1.0|                 N|         161|         137|           1|       12.8|  1.0|    0.5|      10.0|         0.0|                  1.0|        27.8|                 2.5|        0.0|\n",
       "|       2| 2023-01-01 00:09:22|  2023-01-01 00:19:49|            1.0|         1.66|       1.0|                 N|         239|         143|           1|       12.1|  1.0|    0.5|      3.42|         0.0|                  1.0|       20.52|                 2.5|        0.0|\n",
       "|       2| 2023-01-01 00:27:12|  2023-01-01 00:49:56|            1.0|         11.7|       1.0|                 N|         142|         200|           1|       45.7|  1.0|    0.5|     10.74|         3.0|                  1.0|       64.44|                 2.5|        0.0|\n",
       "|       2| 2023-01-01 00:21:44|  2023-01-01 00:36:40|            1.0|         2.95|       1.0|                 N|         164|         236|           1|       17.7|  1.0|    0.5|      5.68|         0.0|                  1.0|       28.38|                 2.5|        0.0|\n",
       "|       2| 2023-01-01 00:39:42|  2023-01-01 00:50:36|            1.0|         3.01|       1.0|                 N|         141|         107|           2|       14.9|  1.0|    0.5|       0.0|         0.0|                  1.0|        19.9|                 2.5|        0.0|\n",
       "+--------+--------------------+---------------------+---------------+-------------+----------+------------------+------------+------------+------------+-----------+-----+-------+----------+------------+---------------------+------------+--------------------+-----------+"
      ]
     },
     "execution_count": 37,
     "metadata": {},
     "output_type": "execute_result"
    }
   ],
   "source": [
    "# write code here to retrieve all non-zero passenger counts and all non-zero trip distances using where\n",
    "sdf.where(\n",
    "    # != 0 is fine, but let's also take into account some more realistic filters\n",
    "    (F.col('passenger_count') >= 0) \n",
    "    & (F.col('trip_distance') >= 0)\n",
    ").limit(10)"
   ]
  },
  {
   "cell_type": "markdown",
   "metadata": {},
   "source": [
    "### GroupBy (Aggregation)\n",
    "To groupby the data (i.e mean), we can use `sdf.groupby(col).mean(aggregated columns).limit(5)`\n",
    "- The equivalent in `pandas` is `df.groupby(col)[aggregated columns].mean().head()`"
   ]
  },
  {
   "cell_type": "code",
   "execution_count": 39,
   "metadata": {
    "ExecuteTime": {
     "end_time": "2023-07-24T04:03:23.940677Z",
     "start_time": "2023-07-24T04:03:21.475197Z"
    }
   },
   "outputs": [
    {
     "data": {
      "text/html": [
       "<table border='1'>\n",
       "<tr><th>passenger_count</th><th>avg(trip_distance)</th></tr>\n",
       "<tr><td>8.0</td><td>4.270769230769231</td></tr>\n",
       "<tr><td>0.0</td><td>2.7619044640763186</td></tr>\n",
       "<tr><td>7.0</td><td>4.238333333333333</td></tr>\n",
       "<tr><td>null</td><td>21.01115439833843</td></tr>\n",
       "<tr><td>1.0</td><td>3.3381694835055487</td></tr>\n",
       "</table>\n"
      ],
      "text/plain": [
       "+---------------+------------------+\n",
       "|passenger_count|avg(trip_distance)|\n",
       "+---------------+------------------+\n",
       "|            8.0| 4.270769230769231|\n",
       "|            0.0|2.7619044640763186|\n",
       "|            7.0| 4.238333333333333|\n",
       "|           null| 21.01115439833843|\n",
       "|            1.0|3.3381694835055487|\n",
       "+---------------+------------------+"
      ]
     },
     "execution_count": 39,
     "metadata": {},
     "output_type": "execute_result"
    }
   ],
   "source": [
    "sdf.groupby('passenger_count').mean('trip_distance').limit(5)"
   ]
  },
  {
   "cell_type": "markdown",
   "metadata": {},
   "source": [
    "We can also apply multiple different aggregations and change their output names using `.agg()` and `.alias()`! To see the list of all SQL functions, visit https://spark.apache.org/docs/latest/api/python/reference/pyspark.sql/functions.html\n",
    "\n",
    "We'll also use `.orderBy()` to display the results nicely."
   ]
  },
  {
   "cell_type": "code",
   "execution_count": 38,
   "metadata": {
    "ExecuteTime": {
     "end_time": "2023-07-24T04:03:25.388514Z",
     "start_time": "2023-07-24T04:03:23.942281Z"
    },
    "code_folding": []
   },
   "outputs": [
    {
     "name": "stderr",
     "output_type": "stream",
     "text": [
      "[Stage 107:==================================================>    (11 + 1) / 12]\r"
     ]
    },
    {
     "name": "stdout",
     "output_type": "stream",
     "text": [
      "+---------------+-------------------+-----------------------+\n",
      "|passenger_count|avg_trip_amount_usd|max_trip_distance_miles|\n",
      "+---------------+-------------------+-----------------------+\n",
      "|           null|   29.1335898972719|              258928.15|\n",
      "|            0.0| 24.162123563442954|                   74.4|\n",
      "|            1.0| 26.443471973092926|               62359.52|\n",
      "|            2.0| 29.313282019602468|               14098.55|\n",
      "|            3.0| 28.475419687266424|                 114.27|\n",
      "|            4.0| 29.611602381617445|                  66.81|\n",
      "|            5.0|  26.58826128722399|                  51.94|\n",
      "|            6.0| 26.558483857203942|                  50.35|\n",
      "|            7.0|  85.11166666666666|                  14.94|\n",
      "|            8.0|  99.33692307692307|                  19.69|\n",
      "|            9.0|              92.25|                    0.0|\n",
      "+---------------+-------------------+-----------------------+\n",
      "\n"
     ]
    },
    {
     "name": "stderr",
     "output_type": "stream",
     "text": [
      "                                                                                \r"
     ]
    }
   ],
   "source": [
    "aggregated_results = sdf \\\n",
    "                    .groupBy(\"passenger_count\") \\\n",
    "                    .agg(\n",
    "                        F.mean(\"total_amount\").alias(\"avg_trip_amount_usd\"),\n",
    "                        F.max(\"trip_distance\").alias(\"max_trip_distance_miles\")\n",
    "                    ) \\\n",
    "                    .orderBy(\"passenger_count\")\n",
    "\n",
    "aggregated_results.show()"
   ]
  },
  {
   "cell_type": "markdown",
   "metadata": {},
   "source": [
    "## Saving Data\n",
    "By default, Spark will save your data sources as a `parquet` (highly recommended). If you wish to take a smaller sample and save it as a `csv` to load into `pandas`, that is also fine."
   ]
  },
  {
   "cell_type": "code",
   "execution_count": 40,
   "metadata": {
    "ExecuteTime": {
     "end_time": "2023-07-24T04:03:27.419466Z",
     "start_time": "2023-07-24T04:03:25.389795Z"
    }
   },
   "outputs": [
    {
     "name": "stderr",
     "output_type": "stream",
     "text": [
      "                                                                                \r"
     ]
    }
   ],
   "source": [
    "aggregated_results.write.mode('overwrite').parquet('../../data/tute_data/aggregated_results')"
   ]
  },
  {
   "cell_type": "markdown",
   "metadata": {},
   "source": [
    "Your directory may look a bit funky like this:\n",
    "\n",
    "![image.png](../../media/aggregated_results_dir.png)\n",
    "\n",
    "Don't worry, just leave it as is (we don't have time to cover everything about Spark unfortunately) and you can just read in the directory as is."
   ]
  },
  {
   "cell_type": "code",
   "execution_count": 41,
   "metadata": {
    "ExecuteTime": {
     "end_time": "2023-07-24T04:03:27.775017Z",
     "start_time": "2023-07-24T04:03:27.420416Z"
    }
   },
   "outputs": [
    {
     "name": "stdout",
     "output_type": "stream",
     "text": [
      "+---------------+-------------------+-----------------------+\n",
      "|passenger_count|avg_trip_amount_usd|max_trip_distance_miles|\n",
      "+---------------+-------------------+-----------------------+\n",
      "|           null|   29.1335898972719|              258928.15|\n",
      "|            0.0| 24.162123563442954|                   74.4|\n",
      "|            1.0| 26.443471973092926|               62359.52|\n",
      "|            2.0| 29.313282019602468|               14098.55|\n",
      "|            3.0| 28.475419687266424|                 114.27|\n",
      "|            4.0| 29.611602381617445|                  66.81|\n",
      "|            5.0|  26.58826128722399|                  51.94|\n",
      "|            6.0| 26.558483857203942|                  50.35|\n",
      "|            7.0|  85.11166666666666|                  14.94|\n",
      "|            8.0|  99.33692307692307|                  19.69|\n",
      "|            9.0|              92.25|                    0.0|\n",
      "+---------------+-------------------+-----------------------+\n",
      "\n"
     ]
    }
   ],
   "source": [
    "temp_results = spark.read.parquet('../../data/tute_data/aggregated_results')\n",
    "temp_results.show()"
   ]
  },
  {
   "cell_type": "markdown",
   "metadata": {},
   "source": [
    "---"
   ]
  },
  {
   "cell_type": "markdown",
   "metadata": {},
   "source": [
    "# Summary (and Break)\n",
    "Cool, we've covered the very very basics of Spark and will now cover the basics of plotting.\n",
    "\n",
    "Rest assured, we will cover more intricate transformations for the next tutorial (which you may go ahead in of course)."
   ]
  },
  {
   "cell_type": "markdown",
   "metadata": {},
   "source": [
    "---"
   ]
  },
  {
   "cell_type": "markdown",
   "metadata": {},
   "source": [
    "## Sampling Data for Plotting"
   ]
  },
  {
   "cell_type": "markdown",
   "metadata": {},
   "source": [
    "Whilst Spark is amazing at handling big data sets, it isn't a great idea to plot all of it. We suggest taking a maximum of 5% of records for the tutorial. \n",
    "\n",
    "You can up it to your requirements, but we recommend sticking to less than 1 million records per month for visualization purposes.\n",
    "\n",
    "**Project 1 Checklist:**\n",
    "- You have justified your sample size (i.e due to runtime, distribution of data, etc)\n",
    "- You have justified your sampling method (i.e random, stratified, etc)\n",
    "- You have detailed in your report that you have sampled for visualization purposes BUT your analysis still uses the full distribution of data\n",
    "- You mention any issues that can potentially be caused by sampling (i.e biased visualisation if using random)\n",
    "\n",
    "Remember, it is your responsibility as the student (future Data Scientist) to convince the tutor (your stakeholders) that your justifications and assumptions are correct!"
   ]
  },
  {
   "cell_type": "markdown",
   "metadata": {
    "ExecuteTime": {
     "end_time": "2022-07-12T05:45:28.804443Z",
     "start_time": "2022-07-12T05:45:28.724408Z"
    }
   },
   "source": [
    "To sample your data and convert it into a `pandas` dataframe, you can use the `.toPandas()` and save a sample of the `sdf` to read it in. We will also fix the random seed to be `0` just for consistency."
   ]
  },
  {
   "cell_type": "code",
   "execution_count": 42,
   "metadata": {
    "ExecuteTime": {
     "end_time": "2023-07-24T04:03:28.560339Z",
     "start_time": "2023-07-24T04:03:28.545932Z"
    }
   },
   "outputs": [],
   "source": [
    "SAMPLE_SIZE = 0.05"
   ]
  },
  {
   "cell_type": "code",
   "execution_count": 43,
   "metadata": {
    "ExecuteTime": {
     "end_time": "2023-07-24T04:03:34.788025Z",
     "start_time": "2023-07-24T04:03:28.760727Z"
    },
    "scrolled": true
   },
   "outputs": [
    {
     "name": "stderr",
     "output_type": "stream",
     "text": [
      "                                                                                \r"
     ]
    },
    {
     "ename": "TypeError",
     "evalue": "Casting to unit-less dtype 'datetime64' is not supported. Pass e.g. 'datetime64[ns]' instead.",
     "output_type": "error",
     "traceback": [
      "\u001b[0;31m---------------------------------------------------------------------------\u001b[0m",
      "\u001b[0;31mTypeError\u001b[0m                                 Traceback (most recent call last)",
      "Cell \u001b[0;32mIn[43], line 1\u001b[0m\n\u001b[0;32m----> 1\u001b[0m df \u001b[39m=\u001b[39m sdf\u001b[39m.\u001b[39;49msample(SAMPLE_SIZE, seed\u001b[39m=\u001b[39;49m\u001b[39m0\u001b[39;49m)\u001b[39m.\u001b[39;49mtoPandas()\n\u001b[1;32m      2\u001b[0m df\u001b[39m.\u001b[39mto_csv(\u001b[39m'\u001b[39m\u001b[39m../../data/tute_data/sample_data.csv\u001b[39m\u001b[39m'\u001b[39m, index\u001b[39m=\u001b[39m\u001b[39mFalse\u001b[39;00m)\n",
      "File \u001b[0;32m~/.local/lib/python3.10/site-packages/pyspark/sql/pandas/conversion.py:251\u001b[0m, in \u001b[0;36mPandasConversionMixin.toPandas\u001b[0;34m(self)\u001b[0m\n\u001b[1;32m    248\u001b[0m should_check_timedelta \u001b[39m=\u001b[39m is_timedelta64_dtype(t) \u001b[39mand\u001b[39;00m \u001b[39mlen\u001b[39m(pdf) \u001b[39m==\u001b[39m \u001b[39m0\u001b[39m\n\u001b[1;32m    250\u001b[0m \u001b[39mif\u001b[39;00m (t \u001b[39mis\u001b[39;00m \u001b[39mnot\u001b[39;00m \u001b[39mNone\u001b[39;00m \u001b[39mand\u001b[39;00m \u001b[39mnot\u001b[39;00m is_timedelta64_dtype(t)) \u001b[39mor\u001b[39;00m should_check_timedelta:\n\u001b[0;32m--> 251\u001b[0m     series \u001b[39m=\u001b[39m series\u001b[39m.\u001b[39;49mastype(t, copy\u001b[39m=\u001b[39;49m\u001b[39mFalse\u001b[39;49;00m)\n\u001b[1;32m    253\u001b[0m \u001b[39mwith\u001b[39;00m catch_warnings():\n\u001b[1;32m    254\u001b[0m     \u001b[39mfrom\u001b[39;00m \u001b[39mpandas\u001b[39;00m\u001b[39m.\u001b[39;00m\u001b[39merrors\u001b[39;00m \u001b[39mimport\u001b[39;00m PerformanceWarning\n",
      "File \u001b[0;32m~/.local/lib/python3.10/site-packages/pandas/core/generic.py:6324\u001b[0m, in \u001b[0;36mNDFrame.astype\u001b[0;34m(self, dtype, copy, errors)\u001b[0m\n\u001b[1;32m   6317\u001b[0m     results \u001b[39m=\u001b[39m [\n\u001b[1;32m   6318\u001b[0m         \u001b[39mself\u001b[39m\u001b[39m.\u001b[39miloc[:, i]\u001b[39m.\u001b[39mastype(dtype, copy\u001b[39m=\u001b[39mcopy)\n\u001b[1;32m   6319\u001b[0m         \u001b[39mfor\u001b[39;00m i \u001b[39min\u001b[39;00m \u001b[39mrange\u001b[39m(\u001b[39mlen\u001b[39m(\u001b[39mself\u001b[39m\u001b[39m.\u001b[39mcolumns))\n\u001b[1;32m   6320\u001b[0m     ]\n\u001b[1;32m   6322\u001b[0m \u001b[39melse\u001b[39;00m:\n\u001b[1;32m   6323\u001b[0m     \u001b[39m# else, only a single dtype is given\u001b[39;00m\n\u001b[0;32m-> 6324\u001b[0m     new_data \u001b[39m=\u001b[39m \u001b[39mself\u001b[39;49m\u001b[39m.\u001b[39;49m_mgr\u001b[39m.\u001b[39;49mastype(dtype\u001b[39m=\u001b[39;49mdtype, copy\u001b[39m=\u001b[39;49mcopy, errors\u001b[39m=\u001b[39;49merrors)\n\u001b[1;32m   6325\u001b[0m     \u001b[39mreturn\u001b[39;00m \u001b[39mself\u001b[39m\u001b[39m.\u001b[39m_constructor(new_data)\u001b[39m.\u001b[39m__finalize__(\u001b[39mself\u001b[39m, method\u001b[39m=\u001b[39m\u001b[39m\"\u001b[39m\u001b[39mastype\u001b[39m\u001b[39m\"\u001b[39m)\n\u001b[1;32m   6327\u001b[0m \u001b[39m# GH 33113: handle empty frame or series\u001b[39;00m\n",
      "File \u001b[0;32m~/.local/lib/python3.10/site-packages/pandas/core/internals/managers.py:451\u001b[0m, in \u001b[0;36mBaseBlockManager.astype\u001b[0;34m(self, dtype, copy, errors)\u001b[0m\n\u001b[1;32m    448\u001b[0m \u001b[39melif\u001b[39;00m using_copy_on_write():\n\u001b[1;32m    449\u001b[0m     copy \u001b[39m=\u001b[39m \u001b[39mFalse\u001b[39;00m\n\u001b[0;32m--> 451\u001b[0m \u001b[39mreturn\u001b[39;00m \u001b[39mself\u001b[39;49m\u001b[39m.\u001b[39;49mapply(\n\u001b[1;32m    452\u001b[0m     \u001b[39m\"\u001b[39;49m\u001b[39mastype\u001b[39;49m\u001b[39m\"\u001b[39;49m,\n\u001b[1;32m    453\u001b[0m     dtype\u001b[39m=\u001b[39;49mdtype,\n\u001b[1;32m    454\u001b[0m     copy\u001b[39m=\u001b[39;49mcopy,\n\u001b[1;32m    455\u001b[0m     errors\u001b[39m=\u001b[39;49merrors,\n\u001b[1;32m    456\u001b[0m     using_cow\u001b[39m=\u001b[39;49musing_copy_on_write(),\n\u001b[1;32m    457\u001b[0m )\n",
      "File \u001b[0;32m~/.local/lib/python3.10/site-packages/pandas/core/internals/managers.py:352\u001b[0m, in \u001b[0;36mBaseBlockManager.apply\u001b[0;34m(self, f, align_keys, **kwargs)\u001b[0m\n\u001b[1;32m    350\u001b[0m         applied \u001b[39m=\u001b[39m b\u001b[39m.\u001b[39mapply(f, \u001b[39m*\u001b[39m\u001b[39m*\u001b[39mkwargs)\n\u001b[1;32m    351\u001b[0m     \u001b[39melse\u001b[39;00m:\n\u001b[0;32m--> 352\u001b[0m         applied \u001b[39m=\u001b[39m \u001b[39mgetattr\u001b[39;49m(b, f)(\u001b[39m*\u001b[39;49m\u001b[39m*\u001b[39;49mkwargs)\n\u001b[1;32m    353\u001b[0m     result_blocks \u001b[39m=\u001b[39m extend_blocks(applied, result_blocks)\n\u001b[1;32m    355\u001b[0m out \u001b[39m=\u001b[39m \u001b[39mtype\u001b[39m(\u001b[39mself\u001b[39m)\u001b[39m.\u001b[39mfrom_blocks(result_blocks, \u001b[39mself\u001b[39m\u001b[39m.\u001b[39maxes)\n",
      "File \u001b[0;32m~/.local/lib/python3.10/site-packages/pandas/core/internals/blocks.py:511\u001b[0m, in \u001b[0;36mBlock.astype\u001b[0;34m(self, dtype, copy, errors, using_cow)\u001b[0m\n\u001b[1;32m    491\u001b[0m \u001b[39m\u001b[39m\u001b[39m\"\"\"\u001b[39;00m\n\u001b[1;32m    492\u001b[0m \u001b[39mCoerce to the new dtype.\u001b[39;00m\n\u001b[1;32m    493\u001b[0m \n\u001b[0;32m   (...)\u001b[0m\n\u001b[1;32m    507\u001b[0m \u001b[39mBlock\u001b[39;00m\n\u001b[1;32m    508\u001b[0m \u001b[39m\"\"\"\u001b[39;00m\n\u001b[1;32m    509\u001b[0m values \u001b[39m=\u001b[39m \u001b[39mself\u001b[39m\u001b[39m.\u001b[39mvalues\n\u001b[0;32m--> 511\u001b[0m new_values \u001b[39m=\u001b[39m astype_array_safe(values, dtype, copy\u001b[39m=\u001b[39;49mcopy, errors\u001b[39m=\u001b[39;49merrors)\n\u001b[1;32m    513\u001b[0m new_values \u001b[39m=\u001b[39m maybe_coerce_values(new_values)\n\u001b[1;32m    515\u001b[0m refs \u001b[39m=\u001b[39m \u001b[39mNone\u001b[39;00m\n",
      "File \u001b[0;32m~/.local/lib/python3.10/site-packages/pandas/core/dtypes/astype.py:242\u001b[0m, in \u001b[0;36mastype_array_safe\u001b[0;34m(values, dtype, copy, errors)\u001b[0m\n\u001b[1;32m    239\u001b[0m     dtype \u001b[39m=\u001b[39m dtype\u001b[39m.\u001b[39mnumpy_dtype\n\u001b[1;32m    241\u001b[0m \u001b[39mtry\u001b[39;00m:\n\u001b[0;32m--> 242\u001b[0m     new_values \u001b[39m=\u001b[39m astype_array(values, dtype, copy\u001b[39m=\u001b[39;49mcopy)\n\u001b[1;32m    243\u001b[0m \u001b[39mexcept\u001b[39;00m (\u001b[39mValueError\u001b[39;00m, \u001b[39mTypeError\u001b[39;00m):\n\u001b[1;32m    244\u001b[0m     \u001b[39m# e.g. _astype_nansafe can fail on object-dtype of strings\u001b[39;00m\n\u001b[1;32m    245\u001b[0m     \u001b[39m#  trying to convert to float\u001b[39;00m\n\u001b[1;32m    246\u001b[0m     \u001b[39mif\u001b[39;00m errors \u001b[39m==\u001b[39m \u001b[39m\"\u001b[39m\u001b[39mignore\u001b[39m\u001b[39m\"\u001b[39m:\n",
      "File \u001b[0;32m~/.local/lib/python3.10/site-packages/pandas/core/dtypes/astype.py:184\u001b[0m, in \u001b[0;36mastype_array\u001b[0;34m(values, dtype, copy)\u001b[0m\n\u001b[1;32m    180\u001b[0m     \u001b[39mreturn\u001b[39;00m values\n\u001b[1;32m    182\u001b[0m \u001b[39mif\u001b[39;00m \u001b[39mnot\u001b[39;00m \u001b[39misinstance\u001b[39m(values, np\u001b[39m.\u001b[39mndarray):\n\u001b[1;32m    183\u001b[0m     \u001b[39m# i.e. ExtensionArray\u001b[39;00m\n\u001b[0;32m--> 184\u001b[0m     values \u001b[39m=\u001b[39m values\u001b[39m.\u001b[39;49mastype(dtype, copy\u001b[39m=\u001b[39;49mcopy)\n\u001b[1;32m    186\u001b[0m \u001b[39melse\u001b[39;00m:\n\u001b[1;32m    187\u001b[0m     values \u001b[39m=\u001b[39m _astype_nansafe(values, dtype, copy\u001b[39m=\u001b[39mcopy)\n",
      "File \u001b[0;32m~/.local/lib/python3.10/site-packages/pandas/core/arrays/datetimes.py:694\u001b[0m, in \u001b[0;36mDatetimeArray.astype\u001b[0;34m(self, dtype, copy)\u001b[0m\n\u001b[1;32m    682\u001b[0m     \u001b[39mraise\u001b[39;00m \u001b[39mTypeError\u001b[39;00m(\n\u001b[1;32m    683\u001b[0m         \u001b[39m\"\u001b[39m\u001b[39mCannot use .astype to convert from timezone-aware dtype to \u001b[39m\u001b[39m\"\u001b[39m\n\u001b[1;32m    684\u001b[0m         \u001b[39m\"\u001b[39m\u001b[39mtimezone-naive dtype. Use obj.tz_localize(None) or \u001b[39m\u001b[39m\"\u001b[39m\n\u001b[1;32m    685\u001b[0m         \u001b[39m\"\u001b[39m\u001b[39mobj.tz_convert(\u001b[39m\u001b[39m'\u001b[39m\u001b[39mUTC\u001b[39m\u001b[39m'\u001b[39m\u001b[39m).tz_localize(None) instead.\u001b[39m\u001b[39m\"\u001b[39m\n\u001b[1;32m    686\u001b[0m     )\n\u001b[1;32m    688\u001b[0m \u001b[39melif\u001b[39;00m (\n\u001b[1;32m    689\u001b[0m     \u001b[39mself\u001b[39m\u001b[39m.\u001b[39mtz \u001b[39mis\u001b[39;00m \u001b[39mNone\u001b[39;00m\n\u001b[1;32m    690\u001b[0m     \u001b[39mand\u001b[39;00m is_datetime64_dtype(dtype)\n\u001b[1;32m    691\u001b[0m     \u001b[39mand\u001b[39;00m dtype \u001b[39m!=\u001b[39m \u001b[39mself\u001b[39m\u001b[39m.\u001b[39mdtype\n\u001b[1;32m    692\u001b[0m     \u001b[39mand\u001b[39;00m is_unitless(dtype)\n\u001b[1;32m    693\u001b[0m ):\n\u001b[0;32m--> 694\u001b[0m     \u001b[39mraise\u001b[39;00m \u001b[39mTypeError\u001b[39;00m(\n\u001b[1;32m    695\u001b[0m         \u001b[39m\"\u001b[39m\u001b[39mCasting to unit-less dtype \u001b[39m\u001b[39m'\u001b[39m\u001b[39mdatetime64\u001b[39m\u001b[39m'\u001b[39m\u001b[39m is not supported. \u001b[39m\u001b[39m\"\u001b[39m\n\u001b[1;32m    696\u001b[0m         \u001b[39m\"\u001b[39m\u001b[39mPass e.g. \u001b[39m\u001b[39m'\u001b[39m\u001b[39mdatetime64[ns]\u001b[39m\u001b[39m'\u001b[39m\u001b[39m instead.\u001b[39m\u001b[39m\"\u001b[39m\n\u001b[1;32m    697\u001b[0m     )\n\u001b[1;32m    699\u001b[0m \u001b[39melif\u001b[39;00m is_period_dtype(dtype):\n\u001b[1;32m    700\u001b[0m     \u001b[39mreturn\u001b[39;00m \u001b[39mself\u001b[39m\u001b[39m.\u001b[39mto_period(freq\u001b[39m=\u001b[39mdtype\u001b[39m.\u001b[39mfreq)\n",
      "\u001b[0;31mTypeError\u001b[0m: Casting to unit-less dtype 'datetime64' is not supported. Pass e.g. 'datetime64[ns]' instead."
     ]
    }
   ],
   "source": [
    "df = sdf.sample(SAMPLE_SIZE, seed=0).toPandas()\n",
    "df.to_csv('../../data/tute_data/sample_data.csv', index=False)"
   ]
  },
  {
   "cell_type": "code",
   "execution_count": 44,
   "metadata": {
    "ExecuteTime": {
     "end_time": "2023-07-24T04:03:34.855142Z",
     "start_time": "2023-07-24T04:03:34.789165Z"
    }
   },
   "outputs": [
    {
     "ename": "NameError",
     "evalue": "name 'df' is not defined",
     "output_type": "error",
     "traceback": [
      "\u001b[0;31m---------------------------------------------------------------------------\u001b[0m",
      "\u001b[0;31mNameError\u001b[0m                                 Traceback (most recent call last)",
      "Cell \u001b[0;32mIn[44], line 1\u001b[0m\n\u001b[0;32m----> 1\u001b[0m df\u001b[39m.\u001b[39mto_parquet(\u001b[39m'\u001b[39m\u001b[39m../../data/tute_data/sample_data.parquet\u001b[39m\u001b[39m'\u001b[39m)\n",
      "\u001b[0;31mNameError\u001b[0m: name 'df' is not defined"
     ]
    }
   ],
   "source": [
    "df.to_parquet('../../data/tute_data/sample_data.parquet')"
   ]
  },
  {
   "cell_type": "markdown",
   "metadata": {},
   "source": [
    "Just spend a moment and look at the disk space the `csv` takes for the 5% sample size (16.1mb). Compare that to the `parquet` which isn't even 4mb, let alone the full sample size in `parquet` format taking only 48mb of disk space.\n",
    "\n",
    "Let that sink in and give our thanks to the devs who made Spark. "
   ]
  },
  {
   "cell_type": "code",
   "execution_count": 45,
   "metadata": {
    "ExecuteTime": {
     "end_time": "2023-07-24T04:03:35.029098Z",
     "start_time": "2023-07-24T04:03:34.856046Z"
    }
   },
   "outputs": [
    {
     "ename": "FileNotFoundError",
     "evalue": "[Errno 2] No such file or directory: '../../data/tute_data/sample_data.csv'",
     "output_type": "error",
     "traceback": [
      "\u001b[0;31m---------------------------------------------------------------------------\u001b[0m",
      "\u001b[0;31mFileNotFoundError\u001b[0m                         Traceback (most recent call last)",
      "File \u001b[0;32m<timed exec>:1\u001b[0m\n",
      "File \u001b[0;32m~/.local/lib/python3.10/site-packages/pandas/io/parsers/readers.py:912\u001b[0m, in \u001b[0;36mread_csv\u001b[0;34m(filepath_or_buffer, sep, delimiter, header, names, index_col, usecols, dtype, engine, converters, true_values, false_values, skipinitialspace, skiprows, skipfooter, nrows, na_values, keep_default_na, na_filter, verbose, skip_blank_lines, parse_dates, infer_datetime_format, keep_date_col, date_parser, date_format, dayfirst, cache_dates, iterator, chunksize, compression, thousands, decimal, lineterminator, quotechar, quoting, doublequote, escapechar, comment, encoding, encoding_errors, dialect, on_bad_lines, delim_whitespace, low_memory, memory_map, float_precision, storage_options, dtype_backend)\u001b[0m\n\u001b[1;32m    899\u001b[0m kwds_defaults \u001b[39m=\u001b[39m _refine_defaults_read(\n\u001b[1;32m    900\u001b[0m     dialect,\n\u001b[1;32m    901\u001b[0m     delimiter,\n\u001b[0;32m   (...)\u001b[0m\n\u001b[1;32m    908\u001b[0m     dtype_backend\u001b[39m=\u001b[39mdtype_backend,\n\u001b[1;32m    909\u001b[0m )\n\u001b[1;32m    910\u001b[0m kwds\u001b[39m.\u001b[39mupdate(kwds_defaults)\n\u001b[0;32m--> 912\u001b[0m \u001b[39mreturn\u001b[39;00m _read(filepath_or_buffer, kwds)\n",
      "File \u001b[0;32m~/.local/lib/python3.10/site-packages/pandas/io/parsers/readers.py:577\u001b[0m, in \u001b[0;36m_read\u001b[0;34m(filepath_or_buffer, kwds)\u001b[0m\n\u001b[1;32m    574\u001b[0m _validate_names(kwds\u001b[39m.\u001b[39mget(\u001b[39m\"\u001b[39m\u001b[39mnames\u001b[39m\u001b[39m\"\u001b[39m, \u001b[39mNone\u001b[39;00m))\n\u001b[1;32m    576\u001b[0m \u001b[39m# Create the parser.\u001b[39;00m\n\u001b[0;32m--> 577\u001b[0m parser \u001b[39m=\u001b[39m TextFileReader(filepath_or_buffer, \u001b[39m*\u001b[39;49m\u001b[39m*\u001b[39;49mkwds)\n\u001b[1;32m    579\u001b[0m \u001b[39mif\u001b[39;00m chunksize \u001b[39mor\u001b[39;00m iterator:\n\u001b[1;32m    580\u001b[0m     \u001b[39mreturn\u001b[39;00m parser\n",
      "File \u001b[0;32m~/.local/lib/python3.10/site-packages/pandas/io/parsers/readers.py:1407\u001b[0m, in \u001b[0;36mTextFileReader.__init__\u001b[0;34m(self, f, engine, **kwds)\u001b[0m\n\u001b[1;32m   1404\u001b[0m     \u001b[39mself\u001b[39m\u001b[39m.\u001b[39moptions[\u001b[39m\"\u001b[39m\u001b[39mhas_index_names\u001b[39m\u001b[39m\"\u001b[39m] \u001b[39m=\u001b[39m kwds[\u001b[39m\"\u001b[39m\u001b[39mhas_index_names\u001b[39m\u001b[39m\"\u001b[39m]\n\u001b[1;32m   1406\u001b[0m \u001b[39mself\u001b[39m\u001b[39m.\u001b[39mhandles: IOHandles \u001b[39m|\u001b[39m \u001b[39mNone\u001b[39;00m \u001b[39m=\u001b[39m \u001b[39mNone\u001b[39;00m\n\u001b[0;32m-> 1407\u001b[0m \u001b[39mself\u001b[39m\u001b[39m.\u001b[39m_engine \u001b[39m=\u001b[39m \u001b[39mself\u001b[39;49m\u001b[39m.\u001b[39;49m_make_engine(f, \u001b[39mself\u001b[39;49m\u001b[39m.\u001b[39;49mengine)\n",
      "File \u001b[0;32m~/.local/lib/python3.10/site-packages/pandas/io/parsers/readers.py:1661\u001b[0m, in \u001b[0;36mTextFileReader._make_engine\u001b[0;34m(self, f, engine)\u001b[0m\n\u001b[1;32m   1659\u001b[0m     \u001b[39mif\u001b[39;00m \u001b[39m\"\u001b[39m\u001b[39mb\u001b[39m\u001b[39m\"\u001b[39m \u001b[39mnot\u001b[39;00m \u001b[39min\u001b[39;00m mode:\n\u001b[1;32m   1660\u001b[0m         mode \u001b[39m+\u001b[39m\u001b[39m=\u001b[39m \u001b[39m\"\u001b[39m\u001b[39mb\u001b[39m\u001b[39m\"\u001b[39m\n\u001b[0;32m-> 1661\u001b[0m \u001b[39mself\u001b[39m\u001b[39m.\u001b[39mhandles \u001b[39m=\u001b[39m get_handle(\n\u001b[1;32m   1662\u001b[0m     f,\n\u001b[1;32m   1663\u001b[0m     mode,\n\u001b[1;32m   1664\u001b[0m     encoding\u001b[39m=\u001b[39;49m\u001b[39mself\u001b[39;49m\u001b[39m.\u001b[39;49moptions\u001b[39m.\u001b[39;49mget(\u001b[39m\"\u001b[39;49m\u001b[39mencoding\u001b[39;49m\u001b[39m\"\u001b[39;49m, \u001b[39mNone\u001b[39;49;00m),\n\u001b[1;32m   1665\u001b[0m     compression\u001b[39m=\u001b[39;49m\u001b[39mself\u001b[39;49m\u001b[39m.\u001b[39;49moptions\u001b[39m.\u001b[39;49mget(\u001b[39m\"\u001b[39;49m\u001b[39mcompression\u001b[39;49m\u001b[39m\"\u001b[39;49m, \u001b[39mNone\u001b[39;49;00m),\n\u001b[1;32m   1666\u001b[0m     memory_map\u001b[39m=\u001b[39;49m\u001b[39mself\u001b[39;49m\u001b[39m.\u001b[39;49moptions\u001b[39m.\u001b[39;49mget(\u001b[39m\"\u001b[39;49m\u001b[39mmemory_map\u001b[39;49m\u001b[39m\"\u001b[39;49m, \u001b[39mFalse\u001b[39;49;00m),\n\u001b[1;32m   1667\u001b[0m     is_text\u001b[39m=\u001b[39;49mis_text,\n\u001b[1;32m   1668\u001b[0m     errors\u001b[39m=\u001b[39;49m\u001b[39mself\u001b[39;49m\u001b[39m.\u001b[39;49moptions\u001b[39m.\u001b[39;49mget(\u001b[39m\"\u001b[39;49m\u001b[39mencoding_errors\u001b[39;49m\u001b[39m\"\u001b[39;49m, \u001b[39m\"\u001b[39;49m\u001b[39mstrict\u001b[39;49m\u001b[39m\"\u001b[39;49m),\n\u001b[1;32m   1669\u001b[0m     storage_options\u001b[39m=\u001b[39;49m\u001b[39mself\u001b[39;49m\u001b[39m.\u001b[39;49moptions\u001b[39m.\u001b[39;49mget(\u001b[39m\"\u001b[39;49m\u001b[39mstorage_options\u001b[39;49m\u001b[39m\"\u001b[39;49m, \u001b[39mNone\u001b[39;49;00m),\n\u001b[1;32m   1670\u001b[0m )\n\u001b[1;32m   1671\u001b[0m \u001b[39massert\u001b[39;00m \u001b[39mself\u001b[39m\u001b[39m.\u001b[39mhandles \u001b[39mis\u001b[39;00m \u001b[39mnot\u001b[39;00m \u001b[39mNone\u001b[39;00m\n\u001b[1;32m   1672\u001b[0m f \u001b[39m=\u001b[39m \u001b[39mself\u001b[39m\u001b[39m.\u001b[39mhandles\u001b[39m.\u001b[39mhandle\n",
      "File \u001b[0;32m~/.local/lib/python3.10/site-packages/pandas/io/common.py:859\u001b[0m, in \u001b[0;36mget_handle\u001b[0;34m(path_or_buf, mode, encoding, compression, memory_map, is_text, errors, storage_options)\u001b[0m\n\u001b[1;32m    854\u001b[0m \u001b[39melif\u001b[39;00m \u001b[39misinstance\u001b[39m(handle, \u001b[39mstr\u001b[39m):\n\u001b[1;32m    855\u001b[0m     \u001b[39m# Check whether the filename is to be opened in binary mode.\u001b[39;00m\n\u001b[1;32m    856\u001b[0m     \u001b[39m# Binary mode does not support 'encoding' and 'newline'.\u001b[39;00m\n\u001b[1;32m    857\u001b[0m     \u001b[39mif\u001b[39;00m ioargs\u001b[39m.\u001b[39mencoding \u001b[39mand\u001b[39;00m \u001b[39m\"\u001b[39m\u001b[39mb\u001b[39m\u001b[39m\"\u001b[39m \u001b[39mnot\u001b[39;00m \u001b[39min\u001b[39;00m ioargs\u001b[39m.\u001b[39mmode:\n\u001b[1;32m    858\u001b[0m         \u001b[39m# Encoding\u001b[39;00m\n\u001b[0;32m--> 859\u001b[0m         handle \u001b[39m=\u001b[39m \u001b[39mopen\u001b[39;49m(\n\u001b[1;32m    860\u001b[0m             handle,\n\u001b[1;32m    861\u001b[0m             ioargs\u001b[39m.\u001b[39;49mmode,\n\u001b[1;32m    862\u001b[0m             encoding\u001b[39m=\u001b[39;49mioargs\u001b[39m.\u001b[39;49mencoding,\n\u001b[1;32m    863\u001b[0m             errors\u001b[39m=\u001b[39;49merrors,\n\u001b[1;32m    864\u001b[0m             newline\u001b[39m=\u001b[39;49m\u001b[39m\"\u001b[39;49m\u001b[39m\"\u001b[39;49m,\n\u001b[1;32m    865\u001b[0m         )\n\u001b[1;32m    866\u001b[0m     \u001b[39melse\u001b[39;00m:\n\u001b[1;32m    867\u001b[0m         \u001b[39m# Binary mode\u001b[39;00m\n\u001b[1;32m    868\u001b[0m         handle \u001b[39m=\u001b[39m \u001b[39mopen\u001b[39m(handle, ioargs\u001b[39m.\u001b[39mmode)\n",
      "\u001b[0;31mFileNotFoundError\u001b[0m: [Errno 2] No such file or directory: '../../data/tute_data/sample_data.csv'"
     ]
    }
   ],
   "source": [
    "%%time\n",
    "df_csv = pd.read_csv('../../data/tute_data/sample_data.csv')"
   ]
  },
  {
   "cell_type": "code",
   "execution_count": 46,
   "metadata": {
    "ExecuteTime": {
     "end_time": "2023-07-24T04:03:35.040185Z",
     "start_time": "2023-07-24T04:03:35.030786Z"
    }
   },
   "outputs": [
    {
     "ename": "FileNotFoundError",
     "evalue": "[Errno 2] No such file or directory: '../../data/tute_data/sample_data.parquet'",
     "output_type": "error",
     "traceback": [
      "\u001b[0;31m---------------------------------------------------------------------------\u001b[0m",
      "\u001b[0;31mFileNotFoundError\u001b[0m                         Traceback (most recent call last)",
      "File \u001b[0;32m<timed exec>:1\u001b[0m\n",
      "File \u001b[0;32m~/.local/lib/python3.10/site-packages/pandas/io/parquet.py:509\u001b[0m, in \u001b[0;36mread_parquet\u001b[0;34m(path, engine, columns, storage_options, use_nullable_dtypes, dtype_backend, **kwargs)\u001b[0m\n\u001b[1;32m    506\u001b[0m     use_nullable_dtypes \u001b[39m=\u001b[39m \u001b[39mFalse\u001b[39;00m\n\u001b[1;32m    507\u001b[0m check_dtype_backend(dtype_backend)\n\u001b[0;32m--> 509\u001b[0m \u001b[39mreturn\u001b[39;00m impl\u001b[39m.\u001b[39;49mread(\n\u001b[1;32m    510\u001b[0m     path,\n\u001b[1;32m    511\u001b[0m     columns\u001b[39m=\u001b[39;49mcolumns,\n\u001b[1;32m    512\u001b[0m     storage_options\u001b[39m=\u001b[39;49mstorage_options,\n\u001b[1;32m    513\u001b[0m     use_nullable_dtypes\u001b[39m=\u001b[39;49muse_nullable_dtypes,\n\u001b[1;32m    514\u001b[0m     dtype_backend\u001b[39m=\u001b[39;49mdtype_backend,\n\u001b[1;32m    515\u001b[0m     \u001b[39m*\u001b[39;49m\u001b[39m*\u001b[39;49mkwargs,\n\u001b[1;32m    516\u001b[0m )\n",
      "File \u001b[0;32m~/.local/lib/python3.10/site-packages/pandas/io/parquet.py:220\u001b[0m, in \u001b[0;36mPyArrowImpl.read\u001b[0;34m(self, path, columns, use_nullable_dtypes, dtype_backend, storage_options, **kwargs)\u001b[0m\n\u001b[1;32m    217\u001b[0m \u001b[39mif\u001b[39;00m manager \u001b[39m==\u001b[39m \u001b[39m\"\u001b[39m\u001b[39marray\u001b[39m\u001b[39m\"\u001b[39m:\n\u001b[1;32m    218\u001b[0m     to_pandas_kwargs[\u001b[39m\"\u001b[39m\u001b[39msplit_blocks\u001b[39m\u001b[39m\"\u001b[39m] \u001b[39m=\u001b[39m \u001b[39mTrue\u001b[39;00m  \u001b[39m# type: ignore[assignment]\u001b[39;00m\n\u001b[0;32m--> 220\u001b[0m path_or_handle, handles, kwargs[\u001b[39m\"\u001b[39m\u001b[39mfilesystem\u001b[39m\u001b[39m\"\u001b[39m] \u001b[39m=\u001b[39m _get_path_or_handle(\n\u001b[1;32m    221\u001b[0m     path,\n\u001b[1;32m    222\u001b[0m     kwargs\u001b[39m.\u001b[39;49mpop(\u001b[39m\"\u001b[39;49m\u001b[39mfilesystem\u001b[39;49m\u001b[39m\"\u001b[39;49m, \u001b[39mNone\u001b[39;49;00m),\n\u001b[1;32m    223\u001b[0m     storage_options\u001b[39m=\u001b[39;49mstorage_options,\n\u001b[1;32m    224\u001b[0m     mode\u001b[39m=\u001b[39;49m\u001b[39m\"\u001b[39;49m\u001b[39mrb\u001b[39;49m\u001b[39m\"\u001b[39;49m,\n\u001b[1;32m    225\u001b[0m )\n\u001b[1;32m    226\u001b[0m \u001b[39mtry\u001b[39;00m:\n\u001b[1;32m    227\u001b[0m     pa_table \u001b[39m=\u001b[39m \u001b[39mself\u001b[39m\u001b[39m.\u001b[39mapi\u001b[39m.\u001b[39mparquet\u001b[39m.\u001b[39mread_table(\n\u001b[1;32m    228\u001b[0m         path_or_handle, columns\u001b[39m=\u001b[39mcolumns, \u001b[39m*\u001b[39m\u001b[39m*\u001b[39mkwargs\n\u001b[1;32m    229\u001b[0m     )\n",
      "File \u001b[0;32m~/.local/lib/python3.10/site-packages/pandas/io/parquet.py:110\u001b[0m, in \u001b[0;36m_get_path_or_handle\u001b[0;34m(path, fs, storage_options, mode, is_dir)\u001b[0m\n\u001b[1;32m    100\u001b[0m handles \u001b[39m=\u001b[39m \u001b[39mNone\u001b[39;00m\n\u001b[1;32m    101\u001b[0m \u001b[39mif\u001b[39;00m (\n\u001b[1;32m    102\u001b[0m     \u001b[39mnot\u001b[39;00m fs\n\u001b[1;32m    103\u001b[0m     \u001b[39mand\u001b[39;00m \u001b[39mnot\u001b[39;00m is_dir\n\u001b[0;32m   (...)\u001b[0m\n\u001b[1;32m    108\u001b[0m     \u001b[39m# fsspec resources can also point to directories\u001b[39;00m\n\u001b[1;32m    109\u001b[0m     \u001b[39m# this branch is used for example when reading from non-fsspec URLs\u001b[39;00m\n\u001b[0;32m--> 110\u001b[0m     handles \u001b[39m=\u001b[39m get_handle(\n\u001b[1;32m    111\u001b[0m         path_or_handle, mode, is_text\u001b[39m=\u001b[39;49m\u001b[39mFalse\u001b[39;49;00m, storage_options\u001b[39m=\u001b[39;49mstorage_options\n\u001b[1;32m    112\u001b[0m     )\n\u001b[1;32m    113\u001b[0m     fs \u001b[39m=\u001b[39m \u001b[39mNone\u001b[39;00m\n\u001b[1;32m    114\u001b[0m     path_or_handle \u001b[39m=\u001b[39m handles\u001b[39m.\u001b[39mhandle\n",
      "File \u001b[0;32m~/.local/lib/python3.10/site-packages/pandas/io/common.py:868\u001b[0m, in \u001b[0;36mget_handle\u001b[0;34m(path_or_buf, mode, encoding, compression, memory_map, is_text, errors, storage_options)\u001b[0m\n\u001b[1;32m    859\u001b[0m         handle \u001b[39m=\u001b[39m \u001b[39mopen\u001b[39m(\n\u001b[1;32m    860\u001b[0m             handle,\n\u001b[1;32m    861\u001b[0m             ioargs\u001b[39m.\u001b[39mmode,\n\u001b[0;32m   (...)\u001b[0m\n\u001b[1;32m    864\u001b[0m             newline\u001b[39m=\u001b[39m\u001b[39m\"\u001b[39m\u001b[39m\"\u001b[39m,\n\u001b[1;32m    865\u001b[0m         )\n\u001b[1;32m    866\u001b[0m     \u001b[39melse\u001b[39;00m:\n\u001b[1;32m    867\u001b[0m         \u001b[39m# Binary mode\u001b[39;00m\n\u001b[0;32m--> 868\u001b[0m         handle \u001b[39m=\u001b[39m \u001b[39mopen\u001b[39;49m(handle, ioargs\u001b[39m.\u001b[39;49mmode)\n\u001b[1;32m    869\u001b[0m     handles\u001b[39m.\u001b[39mappend(handle)\n\u001b[1;32m    871\u001b[0m \u001b[39m# Convert BytesIO or file objects passed with an encoding\u001b[39;00m\n",
      "\u001b[0;31mFileNotFoundError\u001b[0m: [Errno 2] No such file or directory: '../../data/tute_data/sample_data.parquet'"
     ]
    }
   ],
   "source": [
    "%%time\n",
    "df_parquet = pd.read_parquet('../../data/tute_data/sample_data.parquet')"
   ]
  },
  {
   "cell_type": "markdown",
   "metadata": {},
   "source": [
    "We recommend you save every dataframe or aggregation as `parquet` so you don't keep running your notebook from top to bottom waiting 20 years for a result, or have so many variables and dataframes defined that you run out of memory for small transformations.\n",
    "\n",
    "We strongly suggest you have a `code` folder in your Project 1 directory with the following structure:\n",
    "- `preprocessing_notebook_part_1.ipynb`: outputs a structured parquet format and saves it.\n",
    "- `preprocessing_notebook_part_2.ipynb`: reads in the output from above and does some aggregations and sampling before saving it.\n",
    "- `data_analysis_xyz.ipynb`: conducts analysis on a single sample or aggregation from the output above.\n",
    "- `data_analysis_abc.ipynb`: conducts analysis on another single sample or aggregation from the output above.\n",
    "- `...`\n",
    "\n",
    "This is a very basic version of what you call a \"data pipeline\" (or ETL pipeline, etc)."
   ]
  },
  {
   "cell_type": "markdown",
   "metadata": {},
   "source": [
    "_________________\n"
   ]
  },
  {
   "cell_type": "markdown",
   "metadata": {},
   "source": [
    "# Project 1 Tips and Questions"
   ]
  },
  {
   "cell_type": "markdown",
   "metadata": {},
   "source": [
    "### IMPORTANT PLEASE READ THIS\n",
    "First and foremost, you want to be familiar with the homepage https://www1.nyc.gov/site/tlc/about/tlc-trip-record-data.page\n",
    "\n",
    "Read through the relevant data dictionaries:\n",
    "- **MUST READ:** https://www1.nyc.gov/assets/tlc/downloads/pdf/trip_record_user_guide.pdf\n",
    "- https://www1.nyc.gov/assets/tlc/downloads/pdf/data_dictionary_trip_records_yellow.pdf\n",
    "- https://www1.nyc.gov/assets/tlc/downloads/pdf/data_dictionary_trip_records_green.pdf\n",
    "- https://www1.nyc.gov/assets/tlc/downloads/pdf/data_dictionary_trip_records_fhv.pdf\n",
    "- https://www1.nyc.gov/assets/tlc/downloads/pdf/data_dictionary_trip_records_hvfhs.pdf\n",
    "\n",
    "Why? Your tutors can be treated as \"experts\" in this field. To prepare you for the Industry Project, we need to assess students on adhering to requirements and business rules. \n",
    "\n",
    "The tutor team knows this dataset inside out. If you are incorrectly filtering records without sufficient justification, you will be losing marks as per requirements.\n",
    "\n",
    "### An Incorrect Example\n",
    "- Scenario: Student does analysis on `tip_amount` and finds several `NULL` values and either drops them or includes it in the analysis. Later on, they use a regression model to predict this value.\n",
    "\n",
    "- Result: According to the data dictionary, `tip_amount` is automatically populated for credit card tips (`payment_type` is `1`). Cash tips are not included. This means that the students' analysis included all payment types despite this field clearly specifying the rule. \n",
    "\n",
    "- Penalty: The student will lose marks on the analysis section. The modelling section will be marked _assuming_ they got this filtering method correct. However, if another issue pops up due to this, there will be another penalty applied. Please get this right!\n",
    "\n",
    "- Solution: Student should filter for only `payment_type=1` and now, the student can (hopefully) conduct correct analysis on `tip_amount`.\n",
    "\n",
    "Several students over the past few years have lost many marks for simple rules like this (especially `tip_amount`)."
   ]
  },
  {
   "cell_type": "markdown",
   "metadata": {},
   "source": [
    "### Readable Code\n",
    "- We will be assessing the quality of your code and how you present it in your notebooks. \n",
    "- This is because there is no point writing code that cannot be easily interpreted. At the end of the day, employers and clients are not only paying for your analysis, but also the corresponding code. \n",
    "- If your code is confusing or difficult to read, there is little chance your client will come back to you.\n",
    "\n",
    "**Variable Names:**  \n",
    "As long as you are consistent, then it is fine. For example, commit to either using:\n",
    "- Snake Case: words are separated by underscores such as `variable_name`\n",
    "- Camel Case: words are separated by captials such as `variableName`\n",
    "\n",
    "Your variables should be contextual and describe the code. That is, try to name your variables to be understandable **without comments**.\n",
    "\n",
    "**Comments and Docstrings (w.r.t JupyterNotebook Cells):**  \n",
    "Cells in Jupyter Notebook should aim to do one \"block of logic\" at a time (i.e importing libraries, defining functions, filtering rows, etc).\n",
    "- If it takes a reader more than a few seconds to understand your cell, you need comments.\n",
    "- Your functions need to have docstrings describing what they do. If you forgot, search it online or go visit your COMP10001 Grok course.\n",
    "- Use markdown cells for longer comments or explaining logic, inline comments in code for short descriptions of hard-to-understand code.\n",
    "\n",
    "We won't ask you to run `flake8` or `pylint` on your notebooks. We just ask for good comments in the code and markdown cells, reasonable variable names, and clean directories.\n",
    "\n",
    "Here is a good example of good docstring + comments for functions.\n",
    "\n",
    "```python\n",
    "def some_function(some_val: str) -> str:\n",
    "    \"\"\"\n",
    "    This function takes in some string value\n",
    "    and outputs some string value via some transformation.\n",
    "    \"\"\"\n",
    "    # make sure the casing is correct\n",
    "    new_val = some_val.casefold()\n",
    "    return new_val\n",
    "```"
   ]
  }
 ],
 "metadata": {
  "kernelspec": {
   "display_name": "Python 3 (ipykernel)",
   "language": "python",
   "name": "python3"
  },
  "language_info": {
   "codemirror_mode": {
    "name": "ipython",
    "version": 3
   },
   "file_extension": ".py",
   "mimetype": "text/x-python",
   "name": "python",
   "nbconvert_exporter": "python",
   "pygments_lexer": "ipython3",
   "version": "3.10.6"
  },
  "latex_envs": {
   "LaTeX_envs_menu_present": true,
   "autoclose": false,
   "autocomplete": true,
   "bibliofile": "biblio.bib",
   "cite_by": "apalike",
   "current_citInitial": 1,
   "eqLabelWithNumbers": true,
   "eqNumInitial": 1,
   "hotkeys": {
    "equation": "Ctrl-E",
    "itemize": "Ctrl-I"
   },
   "labels_anchors": false,
   "latex_user_defs": false,
   "report_style_numbering": false,
   "user_envs_cfg": false
  },
  "toc": {
   "base_numbering": 1,
   "nav_menu": {},
   "number_sections": true,
   "sideBar": true,
   "skip_h1_title": false,
   "title_cell": "Table of Contents",
   "title_sidebar": "Contents",
   "toc_cell": false,
   "toc_position": {},
   "toc_section_display": true,
   "toc_window_display": false
  },
  "varInspector": {
   "cols": {
    "lenName": 16,
    "lenType": 16,
    "lenVar": 40
   },
   "kernels_config": {
    "python": {
     "delete_cmd_postfix": "",
     "delete_cmd_prefix": "del ",
     "library": "var_list.py",
     "varRefreshCmd": "print(var_dic_list())"
    },
    "r": {
     "delete_cmd_postfix": ") ",
     "delete_cmd_prefix": "rm(",
     "library": "var_list.r",
     "varRefreshCmd": "cat(var_dic_list()) "
    }
   },
   "types_to_exclude": [
    "module",
    "function",
    "builtin_function_or_method",
    "instance",
    "_Feature"
   ],
   "window_display": false
  },
  "vscode": {
   "interpreter": {
    "hash": "1c6f7b18ea35922dad1f927d5d0123541ee5478d7a9729c6a2c6ed680be427a0"
   }
  }
 },
 "nbformat": 4,
 "nbformat_minor": 4
}
